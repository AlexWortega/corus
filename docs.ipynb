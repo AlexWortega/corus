{
 "cells": [
  {
   "cell_type": "markdown",
   "metadata": {},
   "source": [
    "# corus"
   ]
  },
  {
   "cell_type": "code",
   "execution_count": 1,
   "metadata": {
    "scrolled": false
   },
   "outputs": [
    {
     "data": {
      "text/html": [
       "<table>\n",
       "<tr>\n",
       "<th>Dataset</th>\n",
       "<th>API <code>from corus import</code></th>\n",
       "<th>Tags</th>\n",
       "<th>Records</th>\n",
       "<th>Uncompressed, Mb</th>\n",
       "<th>Description</th>\n",
       "</tr>\n",
       "<tr>\n",
       "<td>\n",
       "<a href=\"https://github.com/dialogue-evaluation/factRuEval-2016/\">factRuEval-2016</a>\n",
       "</td>\n",
       "<td>\n",
       "<code><a href=\"#load_factru\">load_factru</a></code>\n",
       "</td>\n",
       "<td>\n",
       "#ner\n",
       "#news\n",
       "</td>\n",
       "<td align=\"right\">\n",
       "254\n",
       "</td>\n",
       "<td align=\"right\">\n",
       "0.95\n",
       "</td>\n",
       "<td>\n",
       "Manual PER, LOC, ORG markup prepared for 2016 Dialog competition.\n",
       "</br>\n",
       "</br>\n",
       "<code>wget https://github.com/dialogue-evaluation/factRuEval-2016/archive/master.zip</code>\n",
       "</br>\n",
       "<code>unzip master.zip</code>\n",
       "</br>\n",
       "<code>rm master.zip</code>\n",
       "</td>\n",
       "</tr>\n",
       "<tr>\n",
       "<td>\n",
       "<a href=\"https://www.researchgate.net/publication/262203599_Introducing_Baselines_for_Russian_Named_Entity_Recognition\">Gareev</a>\n",
       "</td>\n",
       "<td>\n",
       "<code><a href=\"#load_gareev\">load_gareev</a></code>\n",
       "</td>\n",
       "<td>\n",
       "#ner\n",
       "#news\n",
       "</td>\n",
       "<td align=\"right\">\n",
       "97\n",
       "</td>\n",
       "<td align=\"right\">\n",
       "0.44\n",
       "</td>\n",
       "<td>\n",
       "Manual PER, ORG markup.\n",
       "</br>\n",
       "</br>\n",
       "Email Rinat Gareev (gareev-rm@yandex.ru) ask for dataset\n",
       "</br>\n",
       "<code>tar -xvf rus-ner-news-corpus.iob.tar.gz</code>\n",
       "</br>\n",
       "<code>rm rus-ner-news-corpus.iob.tar.gz</code>\n",
       "</td>\n",
       "</tr>\n",
       "<tr>\n",
       "<td>\n",
       "<a href=\"https://github.com/yutkin/Lenta.Ru-News-Dataset\">Lenta.ru</a>\n",
       "</td>\n",
       "<td>\n",
       "<code><a href=\"#load_lenta\">load_lenta</a></code>\n",
       "</td>\n",
       "<td>\n",
       "#news\n",
       "</td>\n",
       "<td align=\"right\">\n",
       "739&nbsp;351\n",
       "</td>\n",
       "<td align=\"right\">\n",
       "1&nbsp;702\n",
       "</td>\n",
       "<td>\n",
       "Dump of lenta.ru\n",
       "</br>\n",
       "</br>\n",
       "<code>wget https://github.com/yutkin/Lenta.Ru-News-Dataset/releases/download/v1.0/lenta-ru-news.csv.gz</code>\n",
       "</td>\n",
       "</tr>\n",
       "<tr>\n",
       "<td>\n",
       "<a href=\"https://russe.nlpub.org/downloads/\">Lib.rus.ec</a>\n",
       "</td>\n",
       "<td>\n",
       "<code><a href=\"#load_librusec\">load_librusec</a></code>\n",
       "</td>\n",
       "<td>\n",
       "#lit\n",
       "</td>\n",
       "<td align=\"right\">\n",
       "301&nbsp;871\n",
       "</td>\n",
       "<td align=\"right\">\n",
       "148&nbsp;402\n",
       "</td>\n",
       "<td>\n",
       "Dump of lib.rus.ec prepared for RUSSE workshop\n",
       "</br>\n",
       "</br>\n",
       "<code>wget http://panchenko.me/data/russe/librusec_fb2.plain.gz</code>\n",
       "</td>\n",
       "</tr>\n",
       "<tr>\n",
       "<td>\n",
       "<a href=\"http://www.labinform.ru/pub/named_entities/\">Collection5</a>\n",
       "</td>\n",
       "<td>\n",
       "<code><a href=\"#load_ne5\">load_ne5</a></code>\n",
       "</td>\n",
       "<td>\n",
       "#ner\n",
       "#news\n",
       "</td>\n",
       "<td align=\"right\">\n",
       "1&nbsp;000\n",
       "</td>\n",
       "<td align=\"right\">\n",
       "2\n",
       "</td>\n",
       "<td>\n",
       "News articles with manual PER, LOC, ORG markup.\n",
       "</br>\n",
       "</br>\n",
       "<code>wget http://www.labinform.ru/pub/named_entities/collection5.zip</code>\n",
       "</br>\n",
       "<code>unzip collection5.zip</code>\n",
       "</br>\n",
       "<code>rm collection5.zip</code>\n",
       "</td>\n",
       "</tr>\n",
       "<tr>\n",
       "<td>\n",
       "<a href=\"https://www.aclweb.org/anthology/I17-1042\">WiNER</a>\n",
       "</td>\n",
       "<td>\n",
       "<code><a href=\"#load_wikiner\">load_wikiner</a></code>\n",
       "</td>\n",
       "<td>\n",
       "#ner\n",
       "</td>\n",
       "<td align=\"right\">\n",
       "203&nbsp;287\n",
       "</td>\n",
       "<td align=\"right\">\n",
       "36\n",
       "</td>\n",
       "<td>\n",
       "Sentences from Wiki auto annotated with PER, LOC, ORG tags.\n",
       "</br>\n",
       "</br>\n",
       "<code>wget https://github.com/dice-group/FOX/raw/master/input/Wikiner/aij-wikiner-ru-wp3.bz2</code>\n",
       "</td>\n",
       "</tr>\n",
       "<tr>\n",
       "<td>\n",
       "<a href=\"https://tatianashavrina.github.io/taiga_site/\">Taiga</a>\n",
       "</td>\n",
       "<td>\n",
       "</td>\n",
       "<td>\n",
       "</td>\n",
       "<td align=\"right\">\n",
       "</td>\n",
       "<td align=\"right\">\n",
       "</td>\n",
       "<td>\n",
       "Large collection of russian texts from various sources: news sites, magazines, literacy, social networks.\n",
       "</br>\n",
       "</br>\n",
       "<code>wget https://linghub.ru/static/Taiga/retagged_taiga.tar.gz</code>\n",
       "</br>\n",
       "<code>tar -xzvf retagged_taiga.tar.gz</code>\n",
       "</td>\n",
       "</tr>\n",
       "<tr>\n",
       "<td>\n",
       "Taiga/Arzamas\n",
       "</td>\n",
       "<td>\n",
       "<code><a href=\"#load_taiga_arzamas\">load_taiga_arzamas</a></code>\n",
       "</td>\n",
       "<td>\n",
       "#news\n",
       "</td>\n",
       "<td align=\"right\">\n",
       "311\n",
       "</td>\n",
       "<td align=\"right\">\n",
       "4\n",
       "</td>\n",
       "<td>\n",
       "Dump of arzamas.academy.\n",
       "</td>\n",
       "</tr>\n",
       "<tr>\n",
       "<td>\n",
       "Taiga/Fontanka\n",
       "</td>\n",
       "<td>\n",
       "<code><a href=\"#load_taiga_fontanka\">load_taiga_fontanka</a></code>\n",
       "</td>\n",
       "<td>\n",
       "#news\n",
       "</td>\n",
       "<td align=\"right\">\n",
       "342&nbsp;683\n",
       "</td>\n",
       "<td align=\"right\">\n",
       "786\n",
       "</td>\n",
       "<td>\n",
       "Dump of fontanka.ru.\n",
       "</td>\n",
       "</tr>\n",
       "<tr>\n",
       "<td>\n",
       "Taiga/Interfax\n",
       "</td>\n",
       "<td>\n",
       "<code><a href=\"#load_taiga_interfax\">load_taiga_interfax</a></code>\n",
       "</td>\n",
       "<td>\n",
       "#news\n",
       "</td>\n",
       "<td align=\"right\">\n",
       "46&nbsp;429\n",
       "</td>\n",
       "<td align=\"right\">\n",
       "77\n",
       "</td>\n",
       "<td>\n",
       "Dump of interfax.ru.\n",
       "</td>\n",
       "</tr>\n",
       "<tr>\n",
       "<td>\n",
       "Taiga/KP\n",
       "</td>\n",
       "<td>\n",
       "<code><a href=\"#load_taiga_kp\">load_taiga_kp</a></code>\n",
       "</td>\n",
       "<td>\n",
       "#news\n",
       "</td>\n",
       "<td align=\"right\">\n",
       "45&nbsp;503\n",
       "</td>\n",
       "<td align=\"right\">\n",
       "61\n",
       "</td>\n",
       "<td>\n",
       "Dump of kp.ru.\n",
       "</td>\n",
       "</tr>\n",
       "<tr>\n",
       "<td>\n",
       "Taiga/Lenta\n",
       "</td>\n",
       "<td>\n",
       "<code><a href=\"#load_taiga_lenta\">load_taiga_lenta</a></code>\n",
       "</td>\n",
       "<td>\n",
       "#news\n",
       "</td>\n",
       "<td align=\"right\">\n",
       "36&nbsp;446\n",
       "</td>\n",
       "<td align=\"right\">\n",
       "95\n",
       "</td>\n",
       "<td>\n",
       "Dump of lenta.ru.\n",
       "</td>\n",
       "</tr>\n",
       "<tr>\n",
       "<td>\n",
       "Taiga/N+1\n",
       "</td>\n",
       "<td>\n",
       "<code><a href=\"#load_taiga_nplus1\">load_taiga_nplus1</a></code>\n",
       "</td>\n",
       "<td>\n",
       "#news\n",
       "</td>\n",
       "<td align=\"right\">\n",
       "7&nbsp;696\n",
       "</td>\n",
       "<td align=\"right\">\n",
       "24\n",
       "</td>\n",
       "<td>\n",
       "Dump of nplus1.ru.\n",
       "</td>\n",
       "</tr>\n",
       "<tr>\n",
       "<td>\n",
       "Taiga/Magazines\n",
       "</td>\n",
       "<td>\n",
       "<code><a href=\"#load_taiga_magazines\">load_taiga_magazines</a></code>\n",
       "</td>\n",
       "<td>\n",
       "</td>\n",
       "<td align=\"right\">\n",
       "39&nbsp;890\n",
       "</td>\n",
       "<td align=\"right\">\n",
       "2&nbsp;243\n",
       "</td>\n",
       "<td>\n",
       "Dump of magazines.russ.ru\n",
       "</td>\n",
       "</tr>\n",
       "<tr>\n",
       "<td>\n",
       "Taiga/Subtitles\n",
       "</td>\n",
       "<td>\n",
       "<code><a href=\"#load_taiga_subtitles\">load_taiga_subtitles</a></code>\n",
       "</td>\n",
       "<td>\n",
       "</td>\n",
       "<td align=\"right\">\n",
       "19&nbsp;011\n",
       "</td>\n",
       "<td align=\"right\">\n",
       "909\n",
       "</td>\n",
       "<td>\n",
       "</td>\n",
       "</tr>\n",
       "<tr>\n",
       "<td>\n",
       "Taiga/Social\n",
       "</td>\n",
       "<td>\n",
       "<code><a href=\"#load_taiga_social\">load_taiga_social</a></code>\n",
       "</td>\n",
       "<td>\n",
       "</td>\n",
       "<td align=\"right\">\n",
       "1&nbsp;876&nbsp;442\n",
       "</td>\n",
       "<td align=\"right\">\n",
       "648\n",
       "</td>\n",
       "<td>\n",
       "</td>\n",
       "</tr>\n",
       "<tr>\n",
       "<td>\n",
       "Taiga/Proza\n",
       "</td>\n",
       "<td>\n",
       "<code><a href=\"#load_taiga_proza\">load_taiga_proza</a></code>\n",
       "</td>\n",
       "<td>\n",
       "#lit\n",
       "</td>\n",
       "<td align=\"right\">\n",
       "1&nbsp;732&nbsp;434\n",
       "</td>\n",
       "<td align=\"right\">\n",
       "39&nbsp;164\n",
       "</td>\n",
       "<td>\n",
       "Dump of proza.ru\n",
       "</td>\n",
       "</tr>\n",
       "<tr>\n",
       "<td>\n",
       "Taiga/Stihi\n",
       "</td>\n",
       "<td>\n",
       "<code><a href=\"#load_taiga_stihi\">load_taiga_stihi</a></code>\n",
       "</td>\n",
       "<td>\n",
       "</td>\n",
       "<td align=\"right\">\n",
       "9&nbsp;157&nbsp;686\n",
       "</td>\n",
       "<td align=\"right\">\n",
       "13&nbsp;109\n",
       "</td>\n",
       "<td>\n",
       "Dump of stihi.ru\n",
       "</td>\n",
       "</tr>\n",
       "<tr>\n",
       "<td>\n",
       "<a href=\"https://github.com/buriy/russian-nlp-datasets/releases\">Buriy (russian-nlp-datasets)</a>\n",
       "</td>\n",
       "<td>\n",
       "</td>\n",
       "<td>\n",
       "</td>\n",
       "<td align=\"right\">\n",
       "</td>\n",
       "<td align=\"right\">\n",
       "</td>\n",
       "<td>\n",
       "Several russian news datasets from webhose.io, lenta.ru and other news sites.\n",
       "</td>\n",
       "</tr>\n",
       "<tr>\n",
       "<td>\n",
       "Buriy/Lenta\n",
       "</td>\n",
       "<td>\n",
       "<code><a href=\"#load_buriy_lenta\">load_buriy_lenta</a></code>\n",
       "</td>\n",
       "<td>\n",
       "#news\n",
       "</td>\n",
       "<td align=\"right\">\n",
       "699&nbsp;777\n",
       "</td>\n",
       "<td align=\"right\">\n",
       "1&nbsp;605\n",
       "</td>\n",
       "<td>\n",
       "Dump of lenta.ru.\n",
       "</br>\n",
       "</br>\n",
       "<code>wget https://github.com/buriy/russian-nlp-datasets/releases/download/r4/lenta.tar.bz2</code>\n",
       "</td>\n",
       "</tr>\n",
       "<tr>\n",
       "<td>\n",
       "Buriy/News\n",
       "</td>\n",
       "<td>\n",
       "<code><a href=\"#load_buriy_news\">load_buriy_news</a></code>\n",
       "</td>\n",
       "<td>\n",
       "#news\n",
       "</td>\n",
       "<td align=\"right\">\n",
       "2&nbsp;154&nbsp;801\n",
       "</td>\n",
       "<td align=\"right\">\n",
       "7&nbsp;000\n",
       "</td>\n",
       "<td>\n",
       "Dump of top 40 news + 20 fashion news sites.\n",
       "</br>\n",
       "</br>\n",
       "<code>wget https://github.com/buriy/russian-nlp-datasets/releases/download/r4/news-articles-2014.tar.bz2</code>\n",
       "</br>\n",
       "<code>wget https://github.com/buriy/russian-nlp-datasets/releases/download/r4/news-articles-2015-part1.tar.bz2</code>\n",
       "</br>\n",
       "<code>wget https://github.com/buriy/russian-nlp-datasets/releases/download/r4/news-articles-2015-part2.tar.bz2</code>\n",
       "</td>\n",
       "</tr>\n",
       "<tr>\n",
       "<td>\n",
       "Buriy/Webhose\n",
       "</td>\n",
       "<td>\n",
       "<code><a href=\"#load_buriy_webhose\">load_buriy_webhose</a></code>\n",
       "</td>\n",
       "<td>\n",
       "#news\n",
       "</td>\n",
       "<td align=\"right\">\n",
       "285&nbsp;965\n",
       "</td>\n",
       "<td align=\"right\">\n",
       "859\n",
       "</td>\n",
       "<td>\n",
       "Dump from webhose.io, 300 sources for one month.\n",
       "</br>\n",
       "</br>\n",
       "<code>wget https://github.com/buriy/russian-nlp-datasets/releases/download/r4/stress.tar.gz</code>\n",
       "</td>\n",
       "</tr>\n",
       "</table>"
      ],
      "text/plain": [
       "<IPython.core.display.HTML object>"
      ]
     },
     "metadata": {},
     "output_type": "display_data"
    }
   ],
   "source": [
    "from corus.sources.meta import METAS\n",
    "from corus.readme import format_metas, show_html, patch_readme\n",
    "\n",
    "html = format_metas(METAS, 'https://nbviewer.jupyter.org/github/natasha/corus/blob/master/docs.ipynb')\n",
    "patch_readme(html, 'README.md')\n",
    "\n",
    "html = format_metas(METAS)\n",
    "show_html(html)"
   ]
  },
  {
   "cell_type": "markdown",
   "metadata": {},
   "source": [
    "## load_lenta"
   ]
  },
  {
   "cell_type": "code",
   "execution_count": null,
   "metadata": {},
   "outputs": [],
   "source": [
    "from corus import load_lenta\n",
    "\n",
    "path = 'data/lenta-ru-news.csv.gz'\n",
    "records = load_lenta(path)\n",
    "next(records)"
   ]
  },
  {
   "cell_type": "markdown",
   "metadata": {},
   "source": [
    "## load_factru"
   ]
  },
  {
   "cell_type": "code",
   "execution_count": null,
   "metadata": {},
   "outputs": [],
   "source": [
    "from corus import load_factru\n",
    "\n",
    "dir = 'data/factRuEval-2016-master/'\n",
    "records = load_factru(dir)\n",
    "next(records)"
   ]
  },
  {
   "cell_type": "markdown",
   "metadata": {},
   "source": [
    "## load_ne5"
   ]
  },
  {
   "cell_type": "code",
   "execution_count": null,
   "metadata": {
    "scrolled": false
   },
   "outputs": [],
   "source": [
    "from corus import load_ne5\n",
    "\n",
    "dir = 'data/Collection5/'\n",
    "records = load_ne5(dir)\n",
    "next(records)"
   ]
  },
  {
   "cell_type": "markdown",
   "metadata": {},
   "source": [
    "## load_gareev"
   ]
  },
  {
   "cell_type": "code",
   "execution_count": null,
   "metadata": {},
   "outputs": [],
   "source": [
    "from corus import load_gareev\n",
    "\n",
    "dir = 'data/rus-ner-news-corpus.iob/'\n",
    "records = load_gareev(dir)\n",
    "next(records)"
   ]
  },
  {
   "cell_type": "markdown",
   "metadata": {},
   "source": [
    "## load_wikiner"
   ]
  },
  {
   "cell_type": "code",
   "execution_count": null,
   "metadata": {},
   "outputs": [],
   "source": [
    "from corus import load_wikiner \n",
    "\n",
    "path = 'data/aij-wikiner-ru-wp3.bz2'\n",
    "records = load_wikiner(path)\n",
    "next(records)"
   ]
  },
  {
   "cell_type": "markdown",
   "metadata": {},
   "source": [
    "## load_librusec"
   ]
  },
  {
   "cell_type": "code",
   "execution_count": null,
   "metadata": {},
   "outputs": [],
   "source": [
    "from corus import load_librusec\n",
    "\n",
    "path = 'data/librusec_fb2.plain.gz'\n",
    "records = load_librusec(path)\n",
    "next(records)"
   ]
  },
  {
   "cell_type": "markdown",
   "metadata": {},
   "source": [
    "## load_taiga_arzamas"
   ]
  },
  {
   "cell_type": "code",
   "execution_count": null,
   "metadata": {},
   "outputs": [],
   "source": [
    "from corus import load_taiga_arzamas_metas, load_taiga_arzamas\n",
    "\n",
    "path = 'data/taiga/Arzamas.tar.gz'\n",
    "metas = load_taiga_arzamas_metas(path, offset=0, count=1)\n",
    "records = load_taiga_arzamas(path, metas, offset=0, count=1)\n",
    "next(records)"
   ]
  },
  {
   "cell_type": "markdown",
   "metadata": {},
   "source": [
    "## load_taiga_fontanka"
   ]
  },
  {
   "cell_type": "code",
   "execution_count": null,
   "metadata": {},
   "outputs": [],
   "source": [
    "from corus import load_taiga_fontanka_metas, load_taiga_fontanka\n",
    "\n",
    "path = 'data/taiga/Fontanka.tar.gz'\n",
    "metas = load_taiga_fontanka_metas(path, offset=0, count=1)\n",
    "records = load_taiga_fontanka(path, metas, offset=0, count=1)\n",
    "next(records)"
   ]
  },
  {
   "cell_type": "markdown",
   "metadata": {},
   "source": [
    "## load_taiga_interfax"
   ]
  },
  {
   "cell_type": "code",
   "execution_count": null,
   "metadata": {},
   "outputs": [],
   "source": [
    "from corus import load_taiga_interfax_metas, load_taiga_interfax\n",
    "\n",
    "path = 'data/taiga/Interfax.tar.gz'\n",
    "metas = load_taiga_interfax_metas(path, offset=0, count=1)\n",
    "records = load_taiga_interfax(path, metas, offset=0, count=1)\n",
    "next(records)"
   ]
  },
  {
   "cell_type": "markdown",
   "metadata": {},
   "source": [
    "## load_taiga_kp"
   ]
  },
  {
   "cell_type": "code",
   "execution_count": null,
   "metadata": {},
   "outputs": [],
   "source": [
    "from corus import load_taiga_kp_metas, load_taiga_kp\n",
    "\n",
    "path = 'data/taiga/KP.tar.gz'\n",
    "metas = load_taiga_kp_metas(path, offset=0, count=1)\n",
    "records = load_taiga_kp(path, metas, offset=0, count=1)\n",
    "next(records)"
   ]
  },
  {
   "cell_type": "markdown",
   "metadata": {},
   "source": [
    "## load_taiga_lenta"
   ]
  },
  {
   "cell_type": "code",
   "execution_count": null,
   "metadata": {},
   "outputs": [],
   "source": [
    "from corus import load_taiga_lenta_metas, load_taiga_lenta\n",
    "\n",
    "path = 'data/taiga/Lenta.tar.gz'\n",
    "metas = load_taiga_lenta_metas(path, offset=0, count=1)\n",
    "records = load_taiga_lenta(path, metas, offset=0, count=1)\n",
    "next(records)"
   ]
  },
  {
   "cell_type": "markdown",
   "metadata": {},
   "source": [
    "## load_taiga_magazines"
   ]
  },
  {
   "cell_type": "code",
   "execution_count": null,
   "metadata": {
    "scrolled": false
   },
   "outputs": [],
   "source": [
    "from corus import load_taiga_magazines_metas, load_taiga_magazines\n",
    "\n",
    "path = 'data/taiga/Magazines.tar.gz'\n",
    "metas = load_taiga_magazines_metas(path, offset=0, count=1)\n",
    "records = load_taiga_magazines(path, metas, offset=0, count=1)\n",
    "next(records)"
   ]
  },
  {
   "cell_type": "markdown",
   "metadata": {},
   "source": [
    "## load_taiga_nplus1"
   ]
  },
  {
   "cell_type": "code",
   "execution_count": null,
   "metadata": {},
   "outputs": [],
   "source": [
    "from corus import load_taiga_nplus1_metas, load_taiga_nplus1\n",
    "\n",
    "path = 'data/taiga/NPlus1.tar.gz'\n",
    "metas = load_taiga_nplus1_metas(path, offset=0, count=1)\n",
    "records = load_taiga_nplus1(path, metas, offset=0, count=1)\n",
    "next(records)"
   ]
  },
  {
   "cell_type": "markdown",
   "metadata": {},
   "source": [
    "## load_taiga_subtitles"
   ]
  },
  {
   "cell_type": "code",
   "execution_count": null,
   "metadata": {},
   "outputs": [],
   "source": [
    "from corus import load_taiga_subtitles_metas, load_taiga_subtitles\n",
    "\n",
    "path = 'data/taiga/Subtitles.tar.gz'\n",
    "metas = load_taiga_subtitles_metas(path, offset=0, count=1)\n",
    "records = load_taiga_subtitles(path, metas, offset=0, count=1)\n",
    "next(records)"
   ]
  },
  {
   "cell_type": "markdown",
   "metadata": {},
   "source": [
    "## load_taiga_social"
   ]
  },
  {
   "cell_type": "code",
   "execution_count": null,
   "metadata": {},
   "outputs": [],
   "source": [
    "from corus import load_taiga_social\n",
    "\n",
    "path = 'data/taiga/social.tar.gz'\n",
    "records = load_taiga_social(path, offset=0, count=4)\n",
    "list(records)"
   ]
  },
  {
   "cell_type": "markdown",
   "metadata": {},
   "source": [
    "## load_taiga_proza"
   ]
  },
  {
   "cell_type": "code",
   "execution_count": null,
   "metadata": {},
   "outputs": [],
   "source": [
    "from corus import load_taiga_proza_metas, load_taiga_proza\n",
    "\n",
    "path = 'data/taiga/proza_ru.zip'\n",
    "metas = load_taiga_proza_metas(path, offset=0, count=1)\n",
    "records = load_taiga_proza(path, metas, offset=0, count=1)\n",
    "next(records)"
   ]
  },
  {
   "cell_type": "markdown",
   "metadata": {},
   "source": [
    "## load_taiga_stihi"
   ]
  },
  {
   "cell_type": "code",
   "execution_count": null,
   "metadata": {},
   "outputs": [],
   "source": [
    "from corus import load_taiga_stihi_metas, load_taiga_stihi\n",
    "\n",
    "path = 'data/taiga/stihi_ru.zip'\n",
    "metas = load_taiga_stihi_metas(path, offset=0, count=1)\n",
    "records = load_taiga_stihi(path, metas, offset=0, count=1)\n",
    "next(records)"
   ]
  },
  {
   "cell_type": "markdown",
   "metadata": {},
   "source": [
    "## load_buriy_lenta"
   ]
  },
  {
   "cell_type": "code",
   "execution_count": null,
   "metadata": {
    "scrolled": false
   },
   "outputs": [],
   "source": [
    "from corus import load_buriy_lenta\n",
    "\n",
    "path = 'data/buriy/lenta.tar.bz2'\n",
    "records = load_buriy_lenta(path)\n",
    "next(records)"
   ]
  },
  {
   "cell_type": "markdown",
   "metadata": {},
   "source": [
    "## load_buriy_news"
   ]
  },
  {
   "cell_type": "code",
   "execution_count": null,
   "metadata": {
    "scrolled": false
   },
   "outputs": [],
   "source": [
    "from corus import load_buriy_news\n",
    "\n",
    "paths = [\n",
    "    'data/buriy/news-articles-2014.tar.bz2',\n",
    "    'data/buriy/news-articles-2015-part1.tar.bz2',\n",
    "    'data/buriy/news-articles-2015-part2.tar.bz2'\n",
    "]\n",
    "records = (\n",
    "    record\n",
    "    for path in paths\n",
    "    for record in load_buriy_news(path)\n",
    ")\n",
    "next(records)"
   ]
  },
  {
   "cell_type": "markdown",
   "metadata": {},
   "source": [
    "## load_buriy_webhose"
   ]
  },
  {
   "cell_type": "code",
   "execution_count": null,
   "metadata": {
    "scrolled": false
   },
   "outputs": [],
   "source": [
    "from corus import load_buriy_webhose\n",
    "\n",
    "path = 'data/buriy/webhose-2016.tar.bz2'\n",
    "records = load_buriy_webhose(path)\n",
    "next(records)"
   ]
  }
 ],
 "metadata": {
  "kernelspec": {
   "display_name": "Python 3",
   "language": "python",
   "name": "python3"
  },
  "language_info": {
   "codemirror_mode": {
    "name": "ipython",
    "version": 3
   },
   "file_extension": ".py",
   "mimetype": "text/x-python",
   "name": "python",
   "nbconvert_exporter": "python",
   "pygments_lexer": "ipython3",
   "version": "3.5.1"
  }
 },
 "nbformat": 4,
 "nbformat_minor": 2
}
