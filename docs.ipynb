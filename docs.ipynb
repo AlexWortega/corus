{
 "cells": [
  {
   "cell_type": "markdown",
   "metadata": {},
   "source": [
    "# corus"
   ]
  },
  {
   "cell_type": "code",
   "execution_count": 1,
   "metadata": {
    "scrolled": false
   },
   "outputs": [
    {
     "data": {
      "text/html": [
       "<table>\n",
       "<tr>\n",
       "<th>Dataset</th>\n",
       "<th>API <code>from corus import</code></th>\n",
       "<th>Tags</th>\n",
       "<th>Records</th>\n",
       "<th>Uncompressed, Mb</th>\n",
       "<th>Description</th>\n",
       "</tr>\n",
       "<tr>\n",
       "<td>\n",
       "<a href=\"https://github.com/yutkin/Lenta.Ru-News-Dataset\">Lenta.ru</a>\n",
       "</td>\n",
       "<td>\n",
       "<code><a href=\"#load_lenta\">load_lenta</a></code>\n",
       "</td>\n",
       "<td>\n",
       "#news\n",
       "</td>\n",
       "<td align=\"right\">\n",
       "739&nbsp;351\n",
       "</td>\n",
       "<td align=\"right\">\n",
       "1&nbsp;702\n",
       "</td>\n",
       "<td>\n",
       "Dump of lenta.ru\n",
       "</br>\n",
       "</br>\n",
       "<code>wget https://github.com/yutkin/Lenta.Ru-News-Dataset/releases/download/v1.0/lenta-ru-news.csv.gz</code>\n",
       "</td>\n",
       "</tr>\n",
       "<tr>\n",
       "<td>\n",
       "<a href=\"https://russe.nlpub.org/downloads/\">Lib.rus.ec</a>\n",
       "</td>\n",
       "<td>\n",
       "<code><a href=\"#load_librusec\">load_librusec</a></code>\n",
       "</td>\n",
       "<td>\n",
       "#lit\n",
       "</td>\n",
       "<td align=\"right\">\n",
       "301&nbsp;871\n",
       "</td>\n",
       "<td align=\"right\">\n",
       "148&nbsp;402\n",
       "</td>\n",
       "<td>\n",
       "Dump of lib.rus.ec prepared for RUSSE workshop\n",
       "</br>\n",
       "</br>\n",
       "<code>wget http://panchenko.me/data/russe/librusec_fb2.plain.gz</code>\n",
       "</td>\n",
       "</tr>\n",
       "<tr>\n",
       "<td>\n",
       "<a href=\"https://github.com/dialogue-evaluation/factRuEval-2016/\">factRuEval-2016</a>\n",
       "</td>\n",
       "<td>\n",
       "<code><a href=\"#load_factru\">load_factru</a></code>\n",
       "</td>\n",
       "<td>\n",
       "#ner\n",
       "#news\n",
       "</td>\n",
       "<td align=\"right\">\n",
       "254\n",
       "</td>\n",
       "<td align=\"right\">\n",
       "0.95\n",
       "</td>\n",
       "<td>\n",
       "Manual PER, LOC, ORG markup prepared for 2016 Dialog competition.\n",
       "</br>\n",
       "</br>\n",
       "<code>wget https://github.com/dialogue-evaluation/factRuEval-2016/archive/master.zip</code>\n",
       "</br>\n",
       "<code>unzip master.zip</code>\n",
       "</br>\n",
       "<code>rm master.zip</code>\n",
       "</td>\n",
       "</tr>\n",
       "<tr>\n",
       "<td>\n",
       "<a href=\"https://www.researchgate.net/publication/262203599_Introducing_Baselines_for_Russian_Named_Entity_Recognition\">Gareev</a>\n",
       "</td>\n",
       "<td>\n",
       "<code><a href=\"#load_gareev\">load_gareev</a></code>\n",
       "</td>\n",
       "<td>\n",
       "#ner\n",
       "#news\n",
       "</td>\n",
       "<td align=\"right\">\n",
       "97\n",
       "</td>\n",
       "<td align=\"right\">\n",
       "0.44\n",
       "</td>\n",
       "<td>\n",
       "Manual PER, ORG markup.\n",
       "</br>\n",
       "</br>\n",
       "Email Rinat Gareev (gareev-rm@yandex.ru) ask for dataset\n",
       "</br>\n",
       "<code>tar -xvf rus-ner-news-corpus.iob.tar.gz</code>\n",
       "</br>\n",
       "<code>rm rus-ner-news-corpus.iob.tar.gz</code>\n",
       "</td>\n",
       "</tr>\n",
       "<tr>\n",
       "<td>\n",
       "<a href=\"http://www.labinform.ru/pub/named_entities/\">Collection5</a>\n",
       "</td>\n",
       "<td>\n",
       "<code><a href=\"#load_ne5\">load_ne5</a></code>\n",
       "</td>\n",
       "<td>\n",
       "#ner\n",
       "#news\n",
       "</td>\n",
       "<td align=\"right\">\n",
       "1&nbsp;000\n",
       "</td>\n",
       "<td align=\"right\">\n",
       "2\n",
       "</td>\n",
       "<td>\n",
       "News articles with manual PER, LOC, ORG markup.\n",
       "</br>\n",
       "</br>\n",
       "<code>wget http://www.labinform.ru/pub/named_entities/collection5.zip</code>\n",
       "</br>\n",
       "<code>unzip collection5.zip</code>\n",
       "</br>\n",
       "<code>rm collection5.zip</code>\n",
       "</td>\n",
       "</tr>\n",
       "<tr>\n",
       "<td>\n",
       "<a href=\"https://www.aclweb.org/anthology/I17-1042\">WiNER</a>\n",
       "</td>\n",
       "<td>\n",
       "<code><a href=\"#load_wikiner\">load_wikiner</a></code>\n",
       "</td>\n",
       "<td>\n",
       "#ner\n",
       "</td>\n",
       "<td align=\"right\">\n",
       "203&nbsp;287\n",
       "</td>\n",
       "<td align=\"right\">\n",
       "36\n",
       "</td>\n",
       "<td>\n",
       "Sentences from Wiki auto annotated with PER, LOC, ORG tags.\n",
       "</br>\n",
       "</br>\n",
       "<code>wget https://github.com/dice-group/FOX/raw/master/input/Wikiner/aij-wikiner-ru-wp3.bz2</code>\n",
       "</td>\n",
       "</tr>\n",
       "<tr>\n",
       "<td>\n",
       "<a href=\"https://tatianashavrina.github.io/taiga_site/\">Taiga</a>\n",
       "</td>\n",
       "<td>\n",
       "</td>\n",
       "<td>\n",
       "</td>\n",
       "<td align=\"right\">\n",
       "</td>\n",
       "<td align=\"right\">\n",
       "</td>\n",
       "<td>\n",
       "Large collection of russian texts from various sources: news sites, magazines, literacy, social networks.\n",
       "</br>\n",
       "</br>\n",
       "<code>wget https://linghub.ru/static/Taiga/retagged_taiga.tar.gz</code>\n",
       "</br>\n",
       "<code>tar -xzvf retagged_taiga.tar.gz</code>\n",
       "</td>\n",
       "</tr>\n",
       "<tr>\n",
       "<td>\n",
       "Taiga/Arzamas\n",
       "</td>\n",
       "<td>\n",
       "<code><a href=\"#load_taiga_arzamas\">load_taiga_arzamas</a></code>\n",
       "</td>\n",
       "<td>\n",
       "#news\n",
       "</td>\n",
       "<td align=\"right\">\n",
       "311\n",
       "</td>\n",
       "<td align=\"right\">\n",
       "4\n",
       "</td>\n",
       "<td>\n",
       "Dump of arzamas.academy.\n",
       "</td>\n",
       "</tr>\n",
       "<tr>\n",
       "<td>\n",
       "Taiga/Fontanka\n",
       "</td>\n",
       "<td>\n",
       "<code><a href=\"#load_taiga_fontanka\">load_taiga_fontanka</a></code>\n",
       "</td>\n",
       "<td>\n",
       "#news\n",
       "</td>\n",
       "<td align=\"right\">\n",
       "342&nbsp;683\n",
       "</td>\n",
       "<td align=\"right\">\n",
       "786\n",
       "</td>\n",
       "<td>\n",
       "Dump of fontanka.ru.\n",
       "</td>\n",
       "</tr>\n",
       "<tr>\n",
       "<td>\n",
       "Taiga/Interfax\n",
       "</td>\n",
       "<td>\n",
       "<code><a href=\"#load_taiga_interfax\">load_taiga_interfax</a></code>\n",
       "</td>\n",
       "<td>\n",
       "#news\n",
       "</td>\n",
       "<td align=\"right\">\n",
       "46&nbsp;429\n",
       "</td>\n",
       "<td align=\"right\">\n",
       "77\n",
       "</td>\n",
       "<td>\n",
       "Dump of interfax.ru.\n",
       "</td>\n",
       "</tr>\n",
       "<tr>\n",
       "<td>\n",
       "Taiga/KP\n",
       "</td>\n",
       "<td>\n",
       "<code><a href=\"#load_taiga_kp\">load_taiga_kp</a></code>\n",
       "</td>\n",
       "<td>\n",
       "#news\n",
       "</td>\n",
       "<td align=\"right\">\n",
       "45&nbsp;503\n",
       "</td>\n",
       "<td align=\"right\">\n",
       "61\n",
       "</td>\n",
       "<td>\n",
       "Dump of kp.ru.\n",
       "</td>\n",
       "</tr>\n",
       "<tr>\n",
       "<td>\n",
       "Taiga/Lenta\n",
       "</td>\n",
       "<td>\n",
       "<code><a href=\"#load_taiga_lenta\">load_taiga_lenta</a></code>\n",
       "</td>\n",
       "<td>\n",
       "#news\n",
       "</td>\n",
       "<td align=\"right\">\n",
       "36&nbsp;446\n",
       "</td>\n",
       "<td align=\"right\">\n",
       "95\n",
       "</td>\n",
       "<td>\n",
       "Dump of lenta.ru.\n",
       "</td>\n",
       "</tr>\n",
       "<tr>\n",
       "<td>\n",
       "Taiga/N+1\n",
       "</td>\n",
       "<td>\n",
       "<code><a href=\"#load_taiga_nplus1\">load_taiga_nplus1</a></code>\n",
       "</td>\n",
       "<td>\n",
       "#news\n",
       "</td>\n",
       "<td align=\"right\">\n",
       "7&nbsp;696\n",
       "</td>\n",
       "<td align=\"right\">\n",
       "24\n",
       "</td>\n",
       "<td>\n",
       "Dump of nplus1.ru.\n",
       "</td>\n",
       "</tr>\n",
       "<tr>\n",
       "<td>\n",
       "Taiga/Magazines\n",
       "</td>\n",
       "<td>\n",
       "<code><a href=\"#load_taiga_magazines\">load_taiga_magazines</a></code>\n",
       "</td>\n",
       "<td>\n",
       "</td>\n",
       "<td align=\"right\">\n",
       "39&nbsp;890\n",
       "</td>\n",
       "<td align=\"right\">\n",
       "2&nbsp;243\n",
       "</td>\n",
       "<td>\n",
       "Dump of magazines.russ.ru\n",
       "</td>\n",
       "</tr>\n",
       "<tr>\n",
       "<td>\n",
       "Taiga/Subtitles\n",
       "</td>\n",
       "<td>\n",
       "<code><a href=\"#load_taiga_subtitles\">load_taiga_subtitles</a></code>\n",
       "</td>\n",
       "<td>\n",
       "</td>\n",
       "<td align=\"right\">\n",
       "19&nbsp;011\n",
       "</td>\n",
       "<td align=\"right\">\n",
       "909\n",
       "</td>\n",
       "<td>\n",
       "</td>\n",
       "</tr>\n",
       "<tr>\n",
       "<td>\n",
       "Taiga/Social\n",
       "</td>\n",
       "<td>\n",
       "<code><a href=\"#load_taiga_social\">load_taiga_social</a></code>\n",
       "</td>\n",
       "<td>\n",
       "#social\n",
       "</td>\n",
       "<td align=\"right\">\n",
       "1&nbsp;876&nbsp;442\n",
       "</td>\n",
       "<td align=\"right\">\n",
       "648\n",
       "</td>\n",
       "<td>\n",
       "</td>\n",
       "</tr>\n",
       "<tr>\n",
       "<td>\n",
       "Taiga/Proza\n",
       "</td>\n",
       "<td>\n",
       "<code><a href=\"#load_taiga_proza\">load_taiga_proza</a></code>\n",
       "</td>\n",
       "<td>\n",
       "#lit\n",
       "</td>\n",
       "<td align=\"right\">\n",
       "1&nbsp;732&nbsp;434\n",
       "</td>\n",
       "<td align=\"right\">\n",
       "39&nbsp;164\n",
       "</td>\n",
       "<td>\n",
       "Dump of proza.ru\n",
       "</td>\n",
       "</tr>\n",
       "<tr>\n",
       "<td>\n",
       "Taiga/Stihi\n",
       "</td>\n",
       "<td>\n",
       "<code><a href=\"#load_taiga_stihi\">load_taiga_stihi</a></code>\n",
       "</td>\n",
       "<td>\n",
       "</td>\n",
       "<td align=\"right\">\n",
       "9&nbsp;157&nbsp;686\n",
       "</td>\n",
       "<td align=\"right\">\n",
       "13&nbsp;109\n",
       "</td>\n",
       "<td>\n",
       "Dump of stihi.ru\n",
       "</td>\n",
       "</tr>\n",
       "<tr>\n",
       "<td>\n",
       "<a href=\"https://github.com/buriy/russian-nlp-datasets/releases\">Buriy (russian-nlp-datasets)</a>\n",
       "</td>\n",
       "<td>\n",
       "</td>\n",
       "<td>\n",
       "</td>\n",
       "<td align=\"right\">\n",
       "</td>\n",
       "<td align=\"right\">\n",
       "</td>\n",
       "<td>\n",
       "Several russian news datasets from webhose.io, lenta.ru and other news sites.\n",
       "</td>\n",
       "</tr>\n",
       "<tr>\n",
       "<td>\n",
       "Buriy/Lenta\n",
       "</td>\n",
       "<td>\n",
       "<code><a href=\"#load_buriy_lenta\">load_buriy_lenta</a></code>\n",
       "</td>\n",
       "<td>\n",
       "#news\n",
       "</td>\n",
       "<td align=\"right\">\n",
       "699&nbsp;777\n",
       "</td>\n",
       "<td align=\"right\">\n",
       "1&nbsp;605\n",
       "</td>\n",
       "<td>\n",
       "Dump of lenta.ru.\n",
       "</br>\n",
       "</br>\n",
       "<code>wget https://github.com/buriy/russian-nlp-datasets/releases/download/r4/lenta.tar.bz2</code>\n",
       "</td>\n",
       "</tr>\n",
       "<tr>\n",
       "<td>\n",
       "Buriy/News\n",
       "</td>\n",
       "<td>\n",
       "<code><a href=\"#load_buriy_news\">load_buriy_news</a></code>\n",
       "</td>\n",
       "<td>\n",
       "#news\n",
       "</td>\n",
       "<td align=\"right\">\n",
       "2&nbsp;154&nbsp;801\n",
       "</td>\n",
       "<td align=\"right\">\n",
       "7&nbsp;000\n",
       "</td>\n",
       "<td>\n",
       "Dump of top 40 news + 20 fashion news sites.\n",
       "</br>\n",
       "</br>\n",
       "<code>wget https://github.com/buriy/russian-nlp-datasets/releases/download/r4/news-articles-2014.tar.bz2</code>\n",
       "</br>\n",
       "<code>wget https://github.com/buriy/russian-nlp-datasets/releases/download/r4/news-articles-2015-part1.tar.bz2</code>\n",
       "</br>\n",
       "<code>wget https://github.com/buriy/russian-nlp-datasets/releases/download/r4/news-articles-2015-part2.tar.bz2</code>\n",
       "</td>\n",
       "</tr>\n",
       "<tr>\n",
       "<td>\n",
       "Buriy/Webhose\n",
       "</td>\n",
       "<td>\n",
       "<code><a href=\"#load_buriy_webhose\">load_buriy_webhose</a></code>\n",
       "</td>\n",
       "<td>\n",
       "#news\n",
       "</td>\n",
       "<td align=\"right\">\n",
       "285&nbsp;965\n",
       "</td>\n",
       "<td align=\"right\">\n",
       "859\n",
       "</td>\n",
       "<td>\n",
       "Dump from webhose.io, 300 sources for one month.\n",
       "</br>\n",
       "</br>\n",
       "<code>wget https://github.com/buriy/russian-nlp-datasets/releases/download/r4/stress.tar.gz</code>\n",
       "</td>\n",
       "</tr>\n",
       "<tr>\n",
       "<td>\n",
       "<a href=\"http://study.mokoron.com/\">Mokoron Russian Twitter Corpus</a>\n",
       "</td>\n",
       "<td>\n",
       "<code><a href=\"#load_mokoron\">load_mokoron</a></code>\n",
       "</td>\n",
       "<td>\n",
       "#social\n",
       "</td>\n",
       "<td align=\"right\">\n",
       "17&nbsp;633&nbsp;417\n",
       "</td>\n",
       "<td align=\"right\">\n",
       "1&nbsp;905\n",
       "</td>\n",
       "<td>\n",
       "Russian tweets.\n",
       "</br>\n",
       "</br>\n",
       "Manually download https://www.dropbox.com/s/9egqjszeicki4ho/db.sql\n",
       "</td>\n",
       "</tr>\n",
       "</table>"
      ],
      "text/plain": [
       "<IPython.core.display.HTML object>"
      ]
     },
     "metadata": {},
     "output_type": "display_data"
    }
   ],
   "source": [
    "from corus.sources.meta import METAS\n",
    "from corus.readme import format_metas, show_html, patch_readme\n",
    "\n",
    "html = format_metas(METAS, 'https://nbviewer.jupyter.org/github/natasha/corus/blob/master/docs.ipynb')\n",
    "patch_readme(html, 'README.md')\n",
    "\n",
    "html = format_metas(METAS)\n",
    "show_html(html)"
   ]
  },
  {
   "cell_type": "markdown",
   "metadata": {},
   "source": [
    "## load_lenta"
   ]
  },
  {
   "cell_type": "code",
   "execution_count": 2,
   "metadata": {},
   "outputs": [
    {
     "data": {
      "text/plain": [
       "LentaRecord(\n",
       "    url='https://lenta.ru/news/2018/12/14/cancer/',\n",
       "    title='Названы регионы России с\\xa0самой высокой смертностью от\\xa0рака',\n",
       "    text='Вице-премьер по социальным вопросам Татьяна Голикова рассказала, в каких регионах России зафиксирована наиболее высокая смертность от рака, сообщает РИА Новости. По словам Голиковой, чаще всего онкологические заболевания становились причиной смерти в Псковской, Тверской, Тульской и Орловской областях, а также в Севастополе. Вице-премьер напомнила, что главные факторы смертности в России — рак и болезни системы кровообращения. В начале года стало известно, что смертность от онкологических заболеваний среди россиян снизилась впервые за три года. По данным Росстата, в 2017 году от рака умерли 289 тысяч человек. Это на 3,5 процента меньше, чем годом ранее.',\n",
       "    topic='Россия',\n",
       "    tags='Общество'\n",
       ")"
      ]
     },
     "execution_count": 2,
     "metadata": {},
     "output_type": "execute_result"
    }
   ],
   "source": [
    "from corus import load_lenta\n",
    "\n",
    "path = 'data/lenta-ru-news.csv.gz'\n",
    "records = load_lenta(path)\n",
    "next(records)"
   ]
  },
  {
   "cell_type": "markdown",
   "metadata": {},
   "source": [
    "## load_factru"
   ]
  },
  {
   "cell_type": "code",
   "execution_count": 3,
   "metadata": {},
   "outputs": [
    {
     "data": {
      "text/plain": [
       "FactruMarkup(\n",
       "    id='58',\n",
       "    text='Встреча с послом Италии в миде Грузии\\n\\nПо инициативе итальянской стороны чрезвычайный и полномочный посол Италии в Грузии Виторио Сандали встретился с заместителем министра иностранных дел Грузии Александром Налбандовым. Предметом обсуждения стали вопросы сотрудничества в международных организациях.\\n',\n",
       "    objects=[FactruObject(\n",
       "         id='16972',\n",
       "         type='LocOrg',\n",
       "         spans=[FactruSpan(\n",
       "              id='32962',\n",
       "              type='loc_name',\n",
       "              start=17,\n",
       "              stop=23\n",
       "          )]\n",
       "     ), FactruObject(\n",
       "         id='16975',\n",
       "         type='Org',\n",
       "         spans=[FactruSpan(\n",
       "              id='32963',\n",
       "              type='org_name',\n",
       "              start=26,\n",
       "              stop=30\n",
       "          ), FactruSpan(\n",
       "              id='32965',\n",
       "              type='loc_name',\n",
       "              start=31,\n",
       "              stop=37\n",
       "          )]\n",
       "     ), FactruObject(\n",
       "         id='16974',\n",
       "         type='LocOrg',\n",
       "         spans=[FactruSpan(\n",
       "              id='32965',\n",
       "              type='loc_name',\n",
       "              start=31,\n",
       "              stop=37\n",
       "          )]\n",
       "     ), FactruObject(\n",
       "         id='16967',\n",
       "         type='LocOrg',\n",
       "         spans=[FactruSpan(\n",
       "              id='32951',\n",
       "              type='loc_name',\n",
       "              start=106,\n",
       "              stop=112\n",
       "          )]\n",
       "     ), FactruObject(\n",
       "         id='16968',\n",
       "         type='LocOrg',\n",
       "         spans=[FactruSpan(\n",
       "              id='32952',\n",
       "              type='loc_name',\n",
       "              start=115,\n",
       "              stop=121\n",
       "          )]\n",
       "     ), FactruObject(\n",
       "         id='16969',\n",
       "         type='Person',\n",
       "         spans=[FactruSpan(\n",
       "              id='32953',\n",
       "              type='name',\n",
       "              start=122,\n",
       "              stop=129\n",
       "          ), FactruSpan(\n",
       "              id='32954',\n",
       "              type='surname',\n",
       "              start=130,\n",
       "              stop=137\n",
       "          )]\n",
       "     ), FactruObject(\n",
       "         id='16970',\n",
       "         type='LocOrg',\n",
       "         spans=[FactruSpan(\n",
       "              id='32955',\n",
       "              type='loc_name',\n",
       "              start=189,\n",
       "              stop=195\n",
       "          )]\n",
       "     ), FactruObject(\n",
       "         id='16971',\n",
       "         type='Person',\n",
       "         spans=[FactruSpan(\n",
       "              id='32956',\n",
       "              type='name',\n",
       "              start=196,\n",
       "              stop=207\n",
       "          ), FactruSpan(\n",
       "              id='32957',\n",
       "              type='surname',\n",
       "              start=208,\n",
       "              stop=219\n",
       "          )]\n",
       "     )]\n",
       ")"
      ]
     },
     "execution_count": 3,
     "metadata": {},
     "output_type": "execute_result"
    }
   ],
   "source": [
    "from corus import load_factru\n",
    "\n",
    "dir = 'data/factRuEval-2016-master/'\n",
    "records = load_factru(dir)\n",
    "next(records)"
   ]
  },
  {
   "cell_type": "markdown",
   "metadata": {},
   "source": [
    "## load_ne5"
   ]
  },
  {
   "cell_type": "code",
   "execution_count": 4,
   "metadata": {
    "scrolled": false
   },
   "outputs": [
    {
     "data": {
      "text/plain": [
       "Ne5Markup(\n",
       "    id='001',\n",
       "    text='Россия рассчитывает на конструктивное воздействие США на Грузию\\r\\n\\r\\n04/08/2008 12:08\\r\\n\\r\\nМОСКВА, 4 авг - РИА Новости. Россия рассчитывает, что США воздействуют на Тбилиси в связи с обострением ситуации в зоне грузино-осетинского конфликта. Об этом статс-секретарь - заместитель министра иностранных дел России Григорий Карасин заявил в телефонном разговоре с заместителем госсекретаря США Дэниэлом Фридом.\\r\\n\\r\\n\"С российской стороны выражена глубокая озабоченность в связи с новым витком напряженности вокруг Южной Осетии, противозаконными действиями грузинской стороны по наращиванию своих вооруженных сил в регионе, бесконтрольным строительством фортификационных сооружений\", - говорится в сообщении.\\r\\n\\r\\n\"Россия уже призвала Тбилиси к ответственной линии и рассчитывает также на конструктивное воздействие со стороны Вашингтона\", - сообщил МИД России. ',\n",
       "    spans=[Ne5Span(\n",
       "         index='T1',\n",
       "         type='GEOPOLIT',\n",
       "         start=0,\n",
       "         stop=6,\n",
       "         text='Россия'\n",
       "     ), Ne5Span(\n",
       "         index='T2',\n",
       "         type='GEOPOLIT',\n",
       "         start=50,\n",
       "         stop=53,\n",
       "         text='США'\n",
       "     ), Ne5Span(\n",
       "         index='T3',\n",
       "         type='GEOPOLIT',\n",
       "         start=57,\n",
       "         stop=63,\n",
       "         text='Грузию'\n",
       "     ), Ne5Span(\n",
       "         index='T4',\n",
       "         type='LOC',\n",
       "         start=87,\n",
       "         stop=93,\n",
       "         text='МОСКВА'\n",
       "     ), Ne5Span(\n",
       "         index='T5',\n",
       "         type='MEDIA',\n",
       "         start=103,\n",
       "         stop=114,\n",
       "         text='РИА Новости'\n",
       "     ), Ne5Span(\n",
       "         index='T6',\n",
       "         type='GEOPOLIT',\n",
       "         start=116,\n",
       "         stop=122,\n",
       "         text='Россия'\n",
       "     ), Ne5Span(\n",
       "         index='T7',\n",
       "         type='GEOPOLIT',\n",
       "         start=141,\n",
       "         stop=144,\n",
       "         text='США'\n",
       "     ), Ne5Span(\n",
       "         index='T8',\n",
       "         type='GEOPOLIT',\n",
       "         start=161,\n",
       "         stop=168,\n",
       "         text='Тбилиси'\n",
       "     ), Ne5Span(\n",
       "         index='T9',\n",
       "         type='GEOPOLIT',\n",
       "         start=301,\n",
       "         stop=307,\n",
       "         text='России'\n",
       "     ), Ne5Span(\n",
       "         index='T10',\n",
       "         type='PER',\n",
       "         start=308,\n",
       "         stop=324,\n",
       "         text='Григорий Карасин'\n",
       "     ), Ne5Span(\n",
       "         index='T11',\n",
       "         type='GEOPOLIT',\n",
       "         start=383,\n",
       "         stop=386,\n",
       "         text='США'\n",
       "     ), Ne5Span(\n",
       "         index='T12',\n",
       "         type='PER',\n",
       "         start=387,\n",
       "         stop=402,\n",
       "         text='Дэниэлом Фридом'\n",
       "     ), Ne5Span(\n",
       "         index='T13',\n",
       "         type='GEOPOLIT',\n",
       "         start=505,\n",
       "         stop=517,\n",
       "         text='Южной Осетии'\n",
       "     ), Ne5Span(\n",
       "         index='T14',\n",
       "         type='GEOPOLIT',\n",
       "         start=703,\n",
       "         stop=709,\n",
       "         text='Россия'\n",
       "     ), Ne5Span(\n",
       "         index='T15',\n",
       "         type='GEOPOLIT',\n",
       "         start=723,\n",
       "         stop=730,\n",
       "         text='Тбилиси'\n",
       "     ), Ne5Span(\n",
       "         index='T16',\n",
       "         type='GEOPOLIT',\n",
       "         start=815,\n",
       "         stop=825,\n",
       "         text='Вашингтона'\n",
       "     ), Ne5Span(\n",
       "         index='T17',\n",
       "         type='ORG',\n",
       "         start=838,\n",
       "         stop=841,\n",
       "         text='МИД'\n",
       "     ), Ne5Span(\n",
       "         index='T18',\n",
       "         type='GEOPOLIT',\n",
       "         start=842,\n",
       "         stop=848,\n",
       "         text='России'\n",
       "     )]\n",
       ")"
      ]
     },
     "execution_count": 4,
     "metadata": {},
     "output_type": "execute_result"
    }
   ],
   "source": [
    "from corus import load_ne5\n",
    "\n",
    "dir = 'data/Collection5/'\n",
    "records = load_ne5(dir)\n",
    "next(records)"
   ]
  },
  {
   "cell_type": "markdown",
   "metadata": {},
   "source": [
    "## load_gareev"
   ]
  },
  {
   "cell_type": "code",
   "execution_count": 5,
   "metadata": {},
   "outputs": [
    {
     "data": {
      "text/plain": [
       "GareevRecord(\n",
       "    text='МОСКВА , 21 июня . / БИЗНЕС-ТАСС / . Группа НЛМК заняла второе место в рейтинге 35 наиболее конкурентоспособных сталелитейных компаний мира . Рейтинг составлялся World Steel Dynamics , ведущей международной исследовательской компанией , на основе оценки 23 параметров , включая расширение мощностей , близость к растущим рынкам сбыта и покупателям , производство продукции с высокой добавленной стоимостью , рентабельность , технологические инновации и другие . Об этом говорится в сообщении НЛМК . World Steel Dynamics высоко оценил такие преимущества НЛМК как низкие производственная себестоимость , самообеспеченность сырьем , высокие финансовые показатели , близость к рынкам сбыта , ценовая политика , деятельность компании в области социальной и экологической ответственности и безопасности труда . В рейтинге World Steel Dynamics НЛМК с 2007 года занимает стабильные позиции среди 6 крупнейших мировых металлургических компаний по уровню конкурентоспособности . Компания World Steel Dynamics является одним из авторитетных исследовательских центров в области металлургии и мировым лидером в области информационных продуктов , отражающих развитие черной металлургии в мире . Сотрудники WSD регулярно анализируют и публикуют исследования мировых цен на металлопрокат , всех составляющих производственных затрат в черной металлургии , факторов , определяющих спрос и предложение на стальном рынке , а также исследования финансовых показателей компаний-производителей стали в мире . В фокусе WSD постоянно находятся стратегические для черной металлургии вопросы . Сотрудники фирмы регулярно участвуют в специализированных исследованиях , проводимых в интересах различных заказчиков , предоставляют частные консультации , осуществляют консультационные услуги по вопросам инвестиций в ценные бумаги компаний черной металлургии . НЛМК – международная вертикально интегрированная металлургическая компания . Предприятия НЛМК расположены в России , Европе и США . Мощности по производству жидкой стали компании превышают 15 млн тонн в год . Выручка НЛМК в 2011 году составила 11,7 млрд долларов , рентабельность по показателю EBITDA составила 19,5 проц . Акции НЛМК торгуются в России на фондовой площадке РТС-ММВБ , а также в форме глобальных депозитарных акций на Лондонской фондовой бирже .',\n",
       "    spans=[Span(\n",
       "         start=21,\n",
       "         stop=32,\n",
       "         type='ORG'\n",
       "     ), Span(\n",
       "         start=44,\n",
       "         stop=48,\n",
       "         type='ORG'\n",
       "     ), Span(\n",
       "         start=162,\n",
       "         stop=182,\n",
       "         type='ORG'\n",
       "     ), Span(\n",
       "         start=492,\n",
       "         stop=496,\n",
       "         type='ORG'\n",
       "     ), Span(\n",
       "         start=499,\n",
       "         stop=519,\n",
       "         type='ORG'\n",
       "     ), Span(\n",
       "         start=553,\n",
       "         stop=557,\n",
       "         type='ORG'\n",
       "     ), Span(\n",
       "         start=816,\n",
       "         stop=836,\n",
       "         type='ORG'\n",
       "     ), Span(\n",
       "         start=837,\n",
       "         stop=841,\n",
       "         type='ORG'\n",
       "     ), Span(\n",
       "         start=978,\n",
       "         stop=998,\n",
       "         type='ORG'\n",
       "     ), Span(\n",
       "         start=1192,\n",
       "         stop=1195,\n",
       "         type='ORG'\n",
       "     ), Span(\n",
       "         start=1495,\n",
       "         stop=1498,\n",
       "         type='ORG'\n",
       "     ), Span(\n",
       "         start=1830,\n",
       "         stop=1834,\n",
       "         type='ORG'\n",
       "     ), Span(\n",
       "         start=1919,\n",
       "         stop=1923,\n",
       "         type='ORG'\n",
       "     ), Span(\n",
       "         start=2047,\n",
       "         stop=2051,\n",
       "         type='ORG'\n",
       "     ), Span(\n",
       "         start=2159,\n",
       "         stop=2163,\n",
       "         type='ORG'\n",
       "     ), Span(\n",
       "         start=2204,\n",
       "         stop=2212,\n",
       "         type='ORG'\n",
       "     ), Span(\n",
       "         start=2264,\n",
       "         stop=2289,\n",
       "         type='ORG'\n",
       "     )]\n",
       ")"
      ]
     },
     "execution_count": 5,
     "metadata": {},
     "output_type": "execute_result"
    }
   ],
   "source": [
    "from corus import load_gareev\n",
    "\n",
    "dir = 'data/rus-ner-news-corpus.iob/'\n",
    "records = load_gareev(dir)\n",
    "next(records)"
   ]
  },
  {
   "cell_type": "markdown",
   "metadata": {},
   "source": [
    "## load_wikiner"
   ]
  },
  {
   "cell_type": "code",
   "execution_count": 6,
   "metadata": {},
   "outputs": [
    {
     "data": {
      "text/plain": [
       "WikinerMarkup(\n",
       "    text='На севере граничит с Латвией , на востоке -- с Белоруссией , на юго-западе -- c Польшей и Калининградской областью России .',\n",
       "    spans=[Span(\n",
       "         start=21,\n",
       "         stop=28,\n",
       "         type='LOC'\n",
       "     ), Span(\n",
       "         start=47,\n",
       "         stop=58,\n",
       "         type='LOC'\n",
       "     ), Span(\n",
       "         start=80,\n",
       "         stop=87,\n",
       "         type='LOC'\n",
       "     ), Span(\n",
       "         start=90,\n",
       "         stop=114,\n",
       "         type='LOC'\n",
       "     ), Span(\n",
       "         start=115,\n",
       "         stop=121,\n",
       "         type='LOC'\n",
       "     )]\n",
       ")"
      ]
     },
     "execution_count": 6,
     "metadata": {},
     "output_type": "execute_result"
    }
   ],
   "source": [
    "from corus import load_wikiner \n",
    "\n",
    "path = 'data/aij-wikiner-ru-wp3.bz2'\n",
    "records = load_wikiner(path)\n",
    "next(records)"
   ]
  },
  {
   "cell_type": "markdown",
   "metadata": {},
   "source": [
    "## load_librusec"
   ]
  },
  {
   "cell_type": "code",
   "execution_count": 7,
   "metadata": {},
   "outputs": [
    {
     "data": {
      "text/plain": [
       "LibrusecRecord(\n",
       "    id='309169',\n",
       "    text='30\\xa0апреля 1722 года выдалось ясным, погожим. Мелкие тучки на голубом небе казались заблудившимися барашками, которые выбились из сил и теперь застыли на месте как прикле\\n       –\\xa0Гарный кулеш,\\xa0– отозвался еще один казак, Иван Солонина.\\xa0– Смачный. Сальца бы в него побольше… Не хватает сальца. –\\xa0И горилки б доброй… нашей, казацкой, чтоб изо рта огонь\\n\\n        –\\xa0Что ты зудишь, как назойливый комар!\\xa0– неожиданно взорвался Полуботок.\\xa0– Поди прочь!'\n",
       ")"
      ]
     },
     "execution_count": 7,
     "metadata": {},
     "output_type": "execute_result"
    }
   ],
   "source": [
    "from corus import load_librusec\n",
    "\n",
    "path = 'data/librusec_fb2.plain.gz'\n",
    "records = load_librusec(path)\n",
    "next(records)"
   ]
  },
  {
   "cell_type": "markdown",
   "metadata": {},
   "source": [
    "## load_taiga_arzamas"
   ]
  },
  {
   "cell_type": "code",
   "execution_count": 8,
   "metadata": {},
   "outputs": [
    {
     "data": {
      "text/plain": [
       "TaigaRecord(\n",
       "    id='101',\n",
       "    meta=Meta(\n",
       "        id='101',\n",
       "        timestamp=datetime.datetime(2015, 8, 19, 0, 0),\n",
       "        tags=['Дети'],\n",
       "        themes=['История'],\n",
       "        rubric=None,\n",
       "        genre=None,\n",
       "        topic=None,\n",
       "        author=Author(\n",
       "            name='Лиза Биргер',\n",
       "            readers=None,\n",
       "            texts=None,\n",
       "            profession='Журналист, редактор',\n",
       "            about='Директор департамента стикеров и\\\\xa0эмодзи Arzamas. Кандидат исторических наук. <nobr>В\\\\xa02011–2014 годах</nobr>\\\\xa0— главный редактор журнала Esquire.',\n",
       "            url=None\n",
       "        ),\n",
       "        lang=None,\n",
       "        title='Нефертити и секретная комната',\n",
       "        url='http://arzamas.academy/mag/101-nefertiti'\n",
       "    ),\n",
       "    text='Работа под названием \"Захоронение Нефертити?\" опубликована на научном сайте academia.edu. Николас Ривз, египтолог Института Аризоны, изучил фотографии и 3D-сканы гробницы, сделанные в начале года компанией Factum Ave, и, как он считает, увидел следы двух дверей, ведущих в скрытые помещения, одно из которых, возможно, является сокровищницей, а другое  --  местом захоронения царицы (на что якобы указывают и фрески на стене).\\nНефертити, как многие полагают, была матерью Тутанхамона, но как получилось, что мать тайно похоронили в гробнице сына? Или, точнее (как формулирует Ривз), сына  --  в гробнице матери? Это редкий пример научной работы, которая читается как детектив. Те, кому лень изучать ее целиком, могут прочесть краткий пересказ в The New Yorker  --  c историей вопроса, цитатами из дневника первооткрывателя гробницы Говарда Картера (которого тоже смущали разные странности в устройстве гробницы), интервью с самим Ривзом и пр.\\n\\n'\n",
       ")"
      ]
     },
     "execution_count": 8,
     "metadata": {},
     "output_type": "execute_result"
    }
   ],
   "source": [
    "from corus import load_taiga_arzamas_metas, load_taiga_arzamas\n",
    "\n",
    "path = 'data/taiga/Arzamas.tar.gz'\n",
    "metas = load_taiga_arzamas_metas(path, offset=0, count=1)\n",
    "records = load_taiga_arzamas(path, metas, offset=0, count=1)\n",
    "next(records)"
   ]
  },
  {
   "cell_type": "markdown",
   "metadata": {},
   "source": [
    "## load_taiga_fontanka"
   ]
  },
  {
   "cell_type": "code",
   "execution_count": 9,
   "metadata": {},
   "outputs": [
    {
     "data": {
      "text/plain": [
       "TaigaRecord(\n",
       "    id='20070101001',\n",
       "    meta=Meta(\n",
       "        id='20070101001',\n",
       "        timestamp=datetime.datetime(2007, 1, 1, 12, 4),\n",
       "        tags=['Санкт-Петербург',\n",
       "         'Петербург',\n",
       "         'СПб',\n",
       "         'фонтанка',\n",
       "         'фонтанка.ру',\n",
       "         'АЖУР',\n",
       "         'Агентство Журналистских расследований',\n",
       "         'СМИ',\n",
       "         'новости',\n",
       "         'новости Петербурга',\n",
       "         'политика',\n",
       "         'экономика',\n",
       "         'криминал',\n",
       "         'Фонтанка',\n",
       "         'информация',\n",
       "         'события',\n",
       "         'город',\n",
       "         'культура',\n",
       "         'политика',\n",
       "         'бизнес',\n",
       "         'общество',\n",
       "         'происшествия',\n",
       "         'спорт',\n",
       "         'свободное время',\n",
       "         'авто',\n",
       "         'недвижимость',\n",
       "         'зарубежная недвижимость',\n",
       "         'Охта центр',\n",
       "         'финансы',\n",
       "         'туризм',\n",
       "         'работа',\n",
       "         'особое мнение'],\n",
       "        themes=None,\n",
       "        rubric='Бизнес',\n",
       "        genre=None,\n",
       "        topic=None,\n",
       "        author=None,\n",
       "        lang=None,\n",
       "        title='Россия и Белоруссия договорились о поставках газа',\n",
       "        url='http://www.fontanka.ru/2007/01/01/001/'\n",
       "    ),\n",
       "    text='«Газпром» и Белоруссия подписали соглашение о поставках российского газа.\\nКак передает ИА «Регнум», глава компании Алексей Миллер сообщил журналистам подробности соглашения.\\n\\nЦена российского газа для Белоруссии составит с 1 января 100 долларов США за 1000 кубометров и в дальнейшем будет рассчитываться по формуле цены, установленной в контракте. К 2011 году она вырастет до среднеевропейского уровня. \\n\\nСтоимость транспортировки российского газа по территории Белоруссии вырастет с нынешних 0,75 доллара США за 1000 кубометров на 100 километров до 1,45 доллара США и будет зафиксирована на все пять лет действия контракта. \\n\\n\"Газпром\" в ближайшие 4 года выкупит 50% акций \"Белтрансгаза\" за 2,5 миллиарда долларов в течение 4 лет. \\n\\nПоследние переговоры между сторонами прошли вчера в Москве.\\n                '\n",
       ")"
      ]
     },
     "execution_count": 9,
     "metadata": {},
     "output_type": "execute_result"
    }
   ],
   "source": [
    "from corus import load_taiga_fontanka_metas, load_taiga_fontanka\n",
    "\n",
    "path = 'data/taiga/Fontanka.tar.gz'\n",
    "metas = load_taiga_fontanka_metas(path, offset=0, count=1)\n",
    "records = load_taiga_fontanka(path, metas, offset=0, count=1)\n",
    "next(records)"
   ]
  },
  {
   "cell_type": "markdown",
   "metadata": {},
   "source": [
    "## load_taiga_interfax"
   ]
  },
  {
   "cell_type": "code",
   "execution_count": 10,
   "metadata": {},
   "outputs": [
    {
     "data": {
      "text/plain": [
       "TaigaRecord(\n",
       "    id='business199005',\n",
       "    meta=Meta(\n",
       "        id='business199005',\n",
       "        timestamp=datetime.datetime(2011, 7, 12, 18, 56),\n",
       "        tags='Москва',\n",
       "        themes=None,\n",
       "        rubric=None,\n",
       "        genre=None,\n",
       "        topic=None,\n",
       "        author=None,\n",
       "        lang=None,\n",
       "        title='Комитеты Совфеда поддерживают законопроект о расширении Москвы',\n",
       "        url='http://www.interfax.ru/business/199005'\n",
       "    ),\n",
       "    text='\\nПрофильные комитеты Совета Федерации рекомендуют палате одобрить законопроект об изменении границ между Москвой и Московской областью.\\n\\tКак отмечается в отзывах комитетов на данный законопроект, изменения границ между Москвой и Московской областью позволят \"повысить инвестиционную привлекательность как Москвы, так и области, что крайне важно для экономического и градостроительного развития\".\\n\\tСоглашение об изменении границ подписано на днях мэром Москвы Сергеем Собяниным и губернатором Московской области Борисом Громовым.\\n\\t\"Изменение границы между Москвой и областью носит характер уточнения, цель которого придать юридический статус фактически сложившейся ситуации и границе в целом. Земельные участки Москве передаются общей площадью 723,46 гектара, а в область отойдут земли площадью 328,45 гектара\", - сказал \"Интерфаксу\" глава комиссии Совета Федерации по жилищной политике и жилищно-коммунальному хозяйству Валерий Парфенов.\\n\\n\\n\\n'\n",
       ")"
      ]
     },
     "execution_count": 10,
     "metadata": {},
     "output_type": "execute_result"
    }
   ],
   "source": [
    "from corus import load_taiga_interfax_metas, load_taiga_interfax\n",
    "\n",
    "path = 'data/taiga/Interfax.tar.gz'\n",
    "metas = load_taiga_interfax_metas(path, offset=0, count=1)\n",
    "records = load_taiga_interfax(path, metas, offset=0, count=1)\n",
    "next(records)"
   ]
  },
  {
   "cell_type": "markdown",
   "metadata": {},
   "source": [
    "## load_taiga_kp"
   ]
  },
  {
   "cell_type": "code",
   "execution_count": 11,
   "metadata": {},
   "outputs": [
    {
     "data": {
      "text/plain": [
       "TaigaRecord(\n",
       "    id='10@2598286',\n",
       "    meta=Meta(\n",
       "        id='10@2598286',\n",
       "        timestamp=datetime.datetime(2016, 12, 13, 10, 50),\n",
       "        tags=None,\n",
       "        themes=None,\n",
       "        rubric='Политика>Политика',\n",
       "        genre=None,\n",
       "        topic=None,\n",
       "        author=Author(\n",
       "            name='Дарья ИВАШКИНА',\n",
       "            readers=None,\n",
       "            texts=None,\n",
       "            profession=None,\n",
       "            about=None,\n",
       "            url=None\n",
       "        ),\n",
       "        lang=None,\n",
       "        title='Путин: Россия готова пройти свою часть пути в улучшении отношений с США',\n",
       "        url='http://www.kp.ru/online/news/2598286/'\n",
       "    ),\n",
       "    text='\\n\\nПрезидент РФ Владимир Путин пообщался с японскими журналистами накануне своего визита в Страну восходящего солнца. В частности, он прокомментировал намерение избранного американского лидера Дональда Трампа подружиться с Москвой.\\nПричем, по словам главы нашего государства, Россия готова пройти свою часть пути в улучшении отношений с США. «Избранный президент Соединенных Штатов выступает за нормализацию отношений, и мы не можем этого не поддерживать… и готовы пройти свою часть пути», - сказал Владимир Владимирович в интервью телеканалу Nippon TV.\\nКстати, напомним, еще в ноябре Путин предложил Трампу восстановить отношения России и США.\\nСАМЫЕ ВАЖНЫЕ ЦИТАТЫ ИЗ ИНТЕРВЬЮ\\n\\n'\n",
       ")"
      ]
     },
     "execution_count": 11,
     "metadata": {},
     "output_type": "execute_result"
    }
   ],
   "source": [
    "from corus import load_taiga_kp_metas, load_taiga_kp\n",
    "\n",
    "path = 'data/taiga/KP.tar.gz'\n",
    "metas = load_taiga_kp_metas(path, offset=0, count=1)\n",
    "records = load_taiga_kp(path, metas, offset=0, count=1)\n",
    "next(records)"
   ]
  },
  {
   "cell_type": "markdown",
   "metadata": {},
   "source": [
    "## load_taiga_lenta"
   ]
  },
  {
   "cell_type": "code",
   "execution_count": 12,
   "metadata": {},
   "outputs": [
    {
     "data": {
      "text/plain": [
       "TaigaRecord(\n",
       "    id='20091231boeviks',\n",
       "    meta=Meta(\n",
       "        id='20091231boeviks',\n",
       "        timestamp=datetime.datetime(2010, 1, 1, 2, 43),\n",
       "        tags=None,\n",
       "        themes=None,\n",
       "        rubric='Россия',\n",
       "        genre=None,\n",
       "        topic=None,\n",
       "        author=None,\n",
       "        lang=None,\n",
       "        title='В Дагестане уничтожили лидера боевиков &quot;Альбаро&quot;',\n",
       "        url='https://lenta.ru/news/2009/12/31/boeviks/'\n",
       "    ),\n",
       "    text='\\nСотрудники милиции вечером 31 декабря уничтожили в Хасавюрте четверых боевиков. Об этом сообщает РИА Новости со ссылкой на представителей МВД Дагестана. Один из ликвидированных членов незаконного бандформирования - глава боевиков по имени Умалат Магомедов, известный также под кличкой \"Альбаро\".Примерно в 22:00 милиционеры попытались остановить на Грозненской улице автомобиль \"Жигули\" для проверки. Находившиеся в машине люди начали стрелять в сотрудников правоохранительных органов и были уничтожены ответным огнем. О жертвах среди милиционеров не сообщается.На месте происшествия работают оперативники. Личности остальных боевиков устанавливаются.В начале декабря представители республиканского МВД заявили, что на территории Дагестана действуют шесть группировок боевиков: махачкалинская, хасавюртовско-кизилюртовская, губденская, гимринская, балаханинская и южнодагестанская. Численность каждой из них, по данным милиционеров, составляет от 10 до 40 человек.\\n'\n",
       ")"
      ]
     },
     "execution_count": 12,
     "metadata": {},
     "output_type": "execute_result"
    }
   ],
   "source": [
    "from corus import load_taiga_lenta_metas, load_taiga_lenta\n",
    "\n",
    "path = 'data/taiga/Lenta.tar.gz'\n",
    "metas = load_taiga_lenta_metas(path, offset=0, count=1)\n",
    "records = load_taiga_lenta(path, metas, offset=0, count=1)\n",
    "next(records)"
   ]
  },
  {
   "cell_type": "markdown",
   "metadata": {},
   "source": [
    "## load_taiga_magazines"
   ]
  },
  {
   "cell_type": "code",
   "execution_count": 13,
   "metadata": {
    "scrolled": false
   },
   "outputs": [
    {
     "data": {
      "text/plain": [
       "TaigaRecord(\n",
       "    id='corpus_druzhba_103870',\n",
       "    meta=None,\n",
       "    text='\\n\\n\\n\\n\\n\\n\\n\\nМиллер Лариса Емельяновна — поэт, прозаик, критик и эссеист\\n\\n <!--  /* Style Definitions */  p.MsoNormal, li.MsoNormal, div.MsoNormal &#9;{mso-style-parent:\"\"; &#9;margin:0cm; &#9;margin-bottom:.0001pt; &#9;mso-pagination:widow-orphan; &#9;font-size:12.0pt; &#9;font-family:\"Times New Roman\"; &#9;mso-fareast-font-family:\"Times New Roman\";} p &#9;{font-size:12.0pt; &#9;font-family:\"Times New Roman\"; &#9;mso-fareast-font-family:\"Times New Roman\";} span.SpellE &#9;{mso-style-name:\"\"; &#9;mso-spl-e:yes;} span.GramE &#9;{mso-style-name:\"\"; &#9;mso-gram-e:yes;} @page Section1 &#9;{size:595.3pt 841.9pt; &#9;margin:2.0cm 42.5pt 2.0cm 3.0cm; &#9;mso-header-margin:35.4pt; &#9;mso-footer-margin:35.4pt; &#9;mso-paper-source:0;} div.Section1 &#9;{page:Section1;} --> \\n\\n\\n\\n\\n\\nМиллер Лариса Емельяновна — поэт, прозаик, критик и эссеист. Окончила Институт иностранных языков. Автор многих книг стихов.  Живет в Москве.\\n \\n* * *\\nВсё время забываю вас спросить —  Меня не слишком трудно выносить? Моих стихов немыслимую груду, Мою готовность к празднику и чуду, Стремленье тайну видеть здесь и там И следовать за нею по пятам, Её рифмуя днями и ночами Из года в год с тенями и лучами? Не отвечайте. Вижу по глазам: Мои стихи вам на душу бальзам. Не затопить бы только вас бальзамом, Потоком вещих слов о самом-самом.\\n \\n \\n* * *\\nДавай отложим всё, что можно отложить, И даже, что нельзя, давай отложим тоже. Сегодня вся земля — одно большое ложе, Застеленное так, чтоб нас заворожить. На то и снегопад, чтоб было мягко спать, На то и снегопад, чтоб мы на чистом, белом Забыли обо всём, и неотложным делом Считали дивный шанс в перинах утопать.\\n \\n \\n* * * \\nА хорошо бы жить в траве Или в бездонной синеве, Иль в речке светлой тихоструйной, Но толку что, коль в дикой, буйной Стране, не помнящей родни, Навек прописаны они.\\n \\n \\n* * *\\n                         Вермееру\\nА можно обходиться малым: Одним мостом, одним каналом, Одной рекой, одним окном. Увидеть можно и в одном Окне весь мир, хотя дорожка Всего одна видна в окошко. Но и на ней, но и на ней Танцует множество теней, Теней, лучей, небесных пятен, Внушая: мир невероятен.\\n \\n \\n* * *\\nВсё время время отнимают —  Беда, отчаянье одно. Неужто же не понимают, Что людям дорого оно, Что надо изменить порядки — Чтоб никаких календарей,  Что наступать нельзя на пятки И приговаривать: «Скорей!», А надо складывать в копилку Любой прожитый день и час Иль рисовать их под копирку, Чтоб был неистощим запас.\\n \\n \\n* * *\\nМы все матрёшки, все с секретом, До срока спрятанным внутри. Ну а точней, мы все с приветом. Что с виду в норме — не смотри. И вообще гляди-ка мимо Своих любимых чад, Господь. Ведь чадо, что Тобой любимо, Такую может чушь молоть, Такое учудить готово Над ближним и самим собой, Что непонятно как Ты снова Нам полог даришь голубой, Его позолотив с востока, Чтоб нам оттенки показать, Вместо того, чтоб нас жестоко И справедливо наказать.\\n Мы все матрёшки, все с секретом, Что в нас живёт зимой и летом, И этим интересны мы Как летом, так и средь зимы. Непредсказуемы, опасны, А временами так прекрасны, Что в пору нам всё-всё простить И чудом света окрестить.\\n \\n \\n* * *\\nНу что добавить в эту бочку? Как что? Конечно, каплю мёда: Стихов удавшуюся строчку, Слова: «Чудесная погода!».\\n Ну что добавить в ад кромешный, Который без конца и края? Как что? Смешной глазок скворешни, Улыбку, то бишь каплю рая.\\n \\n\\n'\n",
       ")"
      ]
     },
     "execution_count": 13,
     "metadata": {},
     "output_type": "execute_result"
    }
   ],
   "source": [
    "from corus import load_taiga_magazines_metas, load_taiga_magazines\n",
    "\n",
    "path = 'data/taiga/Magazines.tar.gz'\n",
    "metas = load_taiga_magazines_metas(path, offset=0, count=1)\n",
    "records = load_taiga_magazines(path, metas, offset=0, count=1)\n",
    "next(records)"
   ]
  },
  {
   "cell_type": "markdown",
   "metadata": {},
   "source": [
    "## load_taiga_nplus1"
   ]
  },
  {
   "cell_type": "code",
   "execution_count": 14,
   "metadata": {},
   "outputs": [
    {
     "data": {
      "text/plain": [
       "TaigaRecord(\n",
       "    id='20160915autonomous',\n",
       "    meta=Meta(\n",
       "        id='20160915autonomous',\n",
       "        timestamp=datetime.datetime(2016, 9, 15, 16, 25),\n",
       "        tags=None,\n",
       "        themes=None,\n",
       "        rubric='Оружие',\n",
       "        genre=None,\n",
       "        topic=None,\n",
       "        author=Author(\n",
       "            name='Василий Сычев',\n",
       "            readers=None,\n",
       "            texts=None,\n",
       "            profession=None,\n",
       "            about=None,\n",
       "            url=None\n",
       "        ),\n",
       "        lang=None,\n",
       "        title='Американцы отказались от автономных боевых роботов',\n",
       "        url='https://nplus1.ru/news/2016/09/15/autonomous'\n",
       "    ),\n",
       "    text='\\nВооруженные силы США «никогда не будут использовать по-настоящему автономные боевые машины». Об этом, как сообщает Breaking Defense, заявил министр обороны страны Эштон Картер. По его словам, полная автономность допустима только для систем кибербезопасности, отвечающих за сканирование компьютерных сетей и автоматически предотвращающих кибератаки. Во всех остальных случаях применение вооружения роботами возможно только по команде человека.Ранее Научный совет министерства обороны США объявил, что разработка автономных систем необходима, потому что они позволят в экстренной ситуации быстро принять контрмеры. В совете не уточнили, следует ли сохранить управление вооружением автономных роботов за человеком, но отметили, то каждая самостоятельная машина должна быть легко проверяемой. Это означает, что в памяти машины должна записываться вся информация, объясняющая то или иное совершенное роботом действие.При этом заместитель министра обороны США по закупкам вооружений Фрэнк Кендалл утверждал, что отказ от разработки и применения полностью автономных боевых систем представляет угрозу национальной безопасности и делает страну уязвимой «перед менее совестливыми противниками». Заявление Картера стало ответом на призывы начать разработку полностью автономных боевых систем. По его словам, военным следует предпочесть взаимодействие солдат и боевых роботов, причем ведущая роль должна быть у людей.В октябре прошлого года профессор британского Шеффилдского университета и сооснователь Международного комитета по контролю за роботизированными вооружениями Ноэл Шарки обратился к руководству Организации объединенных наций с просьбой как можно скорее принять поправки к международным правилам ведения войны, которые бы ввели запрет на использование в боевых действиях полностью автономных вооруженных роботов.По мнению правозащитника, промедление с принятием запрета на автономных роботов может привести к непоправимым последствиям, когда использование таких боевых систем в войнах будет обычной практикой. В частности, Великобритания и США уже сегодня настаивают на том, чтобы возможный запрет распространялся только на перспективные технологии, а не на существующие системы. Если это не учитывать, то под запрет могут попасть зенитный артиллерийский комплекс Phalanx и зенитная противоракетная система «Железный купол».В конце июля 2015 года организация Future of Life Institute опубликовала открытое письмо, в котором назвала полностью автономные системы вооружения опасными для человечества и потребовала запретить их разработку. Письмо подписали множество человек, в том числе основатель частной космической компании SpaceX Илон Маск, астрофизик Стивен Хокинг, основатель Apple Стив Возняк и философ Ноам Хомский. Подписанты полагают, что автономное оружие неизбежно приведет к новой гонке вооружений.Многие правозащитники утверждают, что разработка автономных беспилотников нарушает основные положения Женевских конвенций о защите жертв международных вооруженных конфликтов. В частности, нарушается пункт о том, что на каждом из этапов разработки новые вооружения должны проходить проверку и оценку на опасность для гражданского населения. Кроме того, автономные роботы нарушают требования Декларации Мартенса, представленной в начале 1900-х годов и лежащей в основе Конвенции о законах и обычаях сухопутной войны.В разных странах мира сегодня уже разработаны несколько автономных боевых систем, которые могут применять вооружение самостоятельно, без команды человека. Однако в таком режиме они еще ни разу не использовались. Например, российские зенитные ракетные комплексы С-400 могут самостоятельно обнаруживать воздушные цели, брать их на сопровождение и обстреливать. Южнокорейские пограничные патрульные роботы SGR-1 могут обнаруживать нарушителей границы и открывать по ним пулеметный огонь.Василий Сычёв\\n'\n",
       ")"
      ]
     },
     "execution_count": 14,
     "metadata": {},
     "output_type": "execute_result"
    }
   ],
   "source": [
    "from corus import load_taiga_nplus1_metas, load_taiga_nplus1\n",
    "\n",
    "path = 'data/taiga/NPlus1.tar.gz'\n",
    "metas = load_taiga_nplus1_metas(path, offset=0, count=1)\n",
    "records = load_taiga_nplus1(path, metas, offset=0, count=1)\n",
    "next(records)"
   ]
  },
  {
   "cell_type": "markdown",
   "metadata": {},
   "source": [
    "## load_taiga_subtitles"
   ]
  },
  {
   "cell_type": "code",
   "execution_count": 15,
   "metadata": {},
   "outputs": [
    {
     "data": {
      "text/plain": [
       "TaigaRecord(\n",
       "    id='10 Things I Hate About You - 1x01 - Pilot.HDTV.XII.en',\n",
       "    meta=None,\n",
       "    text='\\ufeff1\\t00:00:07,930\\t00:00:09,246\\t- Привет, пап. - Доброе утро, девочки.\\n2\\t00:00:09,247\\t00:00:11,474\\tЖаль, меня не было этим утром, чтобы приготовить вам блинчики, но...\\n3\\t00:00:11,475\\t00:00:14,328\\t... никак не угадаешь, когда малыш надумает родиться.\\n4\\t00:00:14,662\\t00:00:16,702\\tПап, мы уже знаем, откуда дети берутся.\\n5\\t00:00:17,136\\t00:00:18,963\\tА знаете ли вы, как всё это получается?\\n6\\t00:00:19,681\\t00:00:21,880\\t- Поверьте мне, что нет. - Пап!\\n7\\t00:00:22,078\\t00:00:25,539\\tЛадно, сегодня ваш первый день в школе  и поэтому запомните одну важную вещь:\\n8\\t00:00:25,540\\t00:00:27,680\\t- Не забеременейте! - Пап!\\n9\\t00:00:27,835\\t00:00:28,713\\t- Пап!\\n10\\t00:00:29,237\\t00:00:32,396\\tИ я напоминаю. Парни хотят, чтобы в вашем  животе оказался ребёнок. Тебе ясно, Бьянка?\\n11\\t00:00:32,610\\t00:00:36,437\\tНо они не сделают этого, потому что ты запретил мне с ними встречаться, пока Кэт не начнет.\\n12\\t00:00:36,438\\t00:00:39,881\\tЭти правила, я сформулировал, потому что  вы, девочки, очень важны для меня.\\n'\n",
       ")"
      ]
     },
     "execution_count": 15,
     "metadata": {},
     "output_type": "execute_result"
    }
   ],
   "source": [
    "from corus import load_taiga_subtitles_metas, load_taiga_subtitles\n",
    "\n",
    "path = 'data/taiga/Subtitles.tar.gz'\n",
    "metas = load_taiga_subtitles_metas(path, offset=0, count=1)\n",
    "records = load_taiga_subtitles(path, metas, offset=0, count=1)\n",
    "next(records)"
   ]
  },
  {
   "cell_type": "markdown",
   "metadata": {},
   "source": [
    "## load_taiga_social"
   ]
  },
  {
   "cell_type": "code",
   "execution_count": 16,
   "metadata": {},
   "outputs": [
    {
     "data": {
      "text/plain": [
       "[TaigaSocialRecord(\n",
       "     id='7_5756d98d5dd2dc3dac1635f4',\n",
       "     network='fb',\n",
       "     text='Я,все таки,думаю,что этот дигенерат бросил тень не на Приднестровье,а на Жирика.'\n",
       " ), TaigaSocialRecord(\n",
       "     id='7_5756d9c25dd2dc3dac164c79',\n",
       "     network='fb',\n",
       "     text='===========================\\n\\nЛадно, гулять , так гулять. \\nЧерт с вами. Покажу вам весь пейзаж...\\n\\nУСИ МОИ СЮСИПУСИЧКИ! \\n\\n- Мы очень надеемся, что нам с Вашингтоном удастся добиться результата дипломатическим путем. А Керри все глубже и глубже начинал при этом погружать свой член в его полость рта: \\n\\nКонстант 3'\n",
       " ), TaigaSocialRecord(\n",
       "     id='7_5756da2e5dd2dc3dac165d00',\n",
       "     network='fb',\n",
       "     text='ну с какого перепугу КПРФ - оппозиционная?  Может и ЛДПР - оппозиция?'\n",
       " ), TaigaSocialRecord(\n",
       "     id=None,\n",
       "     network='lj',\n",
       "     text='че тут обсуждать-то? не много ли чести для всякой хуйни?)'\n",
       " ), TaigaSocialRecord(\n",
       "     id=None,\n",
       "     network='lj',\n",
       "     text='Люблю НТВ...)'\n",
       " ), TaigaSocialRecord(\n",
       "     id=None,\n",
       "     network='lj',\n",
       "     text='Главное что бы НТВ не полюбило тебя )'\n",
       " ), TaigaSocialRecord(\n",
       "     id=None,\n",
       "     network='lj',\n",
       "     text='ага,и я, там фриков показывают))'\n",
       " ), TaigaSocialRecord(\n",
       "     id='0_5756d98c5dd2dc3dac163478',\n",
       "     network='twitter',\n",
       "     text='Число россиян, вынужденных отказаться от летнего отдыха, достигло рекорда за 16 лет  Ну что, голосуем и дальше за ЕР?'\n",
       " ), TaigaSocialRecord(\n",
       "     id='0_5756d98c5dd2dc3dac16347b',\n",
       "     network='twitter',\n",
       "     text='«Единая Россия» может рассчитывать более чем на 50 процентов голосов избирателей на выборах в Государственную … '\n",
       " ), TaigaSocialRecord(\n",
       "     id='0_5756d9905dd2dc3dac16394f',\n",
       "     network='twitter',\n",
       "     text='@mudakoff: \"Драку с мотоциклистом в Подмосковье устроил участник праймериз Единой России.\\n\\nРазговор с…\" №1 в  '\n",
       " ), TaigaSocialRecord(\n",
       "     id='6_5756d9a15dd2dc3dac164449',\n",
       "     network='vk',\n",
       "     text='Окститесь православные.И Гундяев(в миру Михайлов) и Зюганов служат одному и тому же божку--Путину.Его вывлизываемый анус для них и Христос и Карл Маркс в одном флаконе'\n",
       " ), TaigaSocialRecord(\n",
       "     id='6_5756d9a15dd2dc3dac16444e',\n",
       "     network='vk',\n",
       "     text='[id272464553|Astina], \"Депутаты от фракции КПРФ внесли в Госдуму законопроект о переносе Дня России на 28 июля — День крещения Руси, сообщает ТАСС.\" 😉'\n",
       " )]"
      ]
     },
     "execution_count": 16,
     "metadata": {},
     "output_type": "execute_result"
    }
   ],
   "source": [
    "from corus import load_taiga_social\n",
    "\n",
    "path = 'data/taiga/social.tar.gz'\n",
    "records = load_taiga_social(path, offset=0, count=4)\n",
    "list(records)"
   ]
  },
  {
   "cell_type": "markdown",
   "metadata": {},
   "source": [
    "## load_taiga_proza"
   ]
  },
  {
   "cell_type": "code",
   "execution_count": 17,
   "metadata": {},
   "outputs": [
    {
     "data": {
      "text/plain": [
       "TaigaRecord(\n",
       "    id='20151231005',\n",
       "    meta=Meta(\n",
       "        id='20151231005',\n",
       "        timestamp=datetime.datetime(2015, 12, 31, 23, 40),\n",
       "        tags=None,\n",
       "        themes=None,\n",
       "        rubric=None,\n",
       "        genre='Малые формы',\n",
       "        topic='миниатюры',\n",
       "        author=Author(\n",
       "            name='Кальб',\n",
       "            readers=7973,\n",
       "            texts=92681,\n",
       "            profession=None,\n",
       "            about=None,\n",
       "            url='http://www.proza.ru/avtor/sadshoot'\n",
       "        ),\n",
       "        lang=None,\n",
       "        title='С Новым Годом!',\n",
       "        url='http://www.proza.ru/2015/12/31/1875'\n",
       "    ),\n",
       "    text='...Искры улыбок...\\n... затмят фейерверки..\\n..Смех и веселье...\\n... прокатят по миру..\\n..Праздник разносят... многие клерки..\\n..Дух мандаринов... подарки...зефирки....\\n\\nС Новым годом всех Вас!\\n\\n..с уважением к вам...Я...'\n",
       ")"
      ]
     },
     "execution_count": 17,
     "metadata": {},
     "output_type": "execute_result"
    }
   ],
   "source": [
    "from corus import load_taiga_proza_metas, load_taiga_proza\n",
    "\n",
    "path = 'data/taiga/proza_ru.zip'\n",
    "metas = load_taiga_proza_metas(path, offset=0, count=1)\n",
    "records = load_taiga_proza(path, metas, offset=0, count=1)\n",
    "next(records)"
   ]
  },
  {
   "cell_type": "markdown",
   "metadata": {},
   "source": [
    "## load_taiga_stihi"
   ]
  },
  {
   "cell_type": "code",
   "execution_count": 18,
   "metadata": {},
   "outputs": [
    {
     "data": {
      "text/plain": [
       "TaigaRecord(\n",
       "    id='20151231001',\n",
       "    meta=Meta(\n",
       "        id='20151231001',\n",
       "        timestamp=datetime.datetime(2015, 12, 31, 23, 56),\n",
       "        tags=None,\n",
       "        themes=None,\n",
       "        rubric=None,\n",
       "        genre='лирика',\n",
       "        topic='любовная лирика',\n",
       "        author=Author(\n",
       "            name='Макс Майер-Младший',\n",
       "            readers=26,\n",
       "            texts=2085,\n",
       "            profession=None,\n",
       "            about=None,\n",
       "            url='http://www.stihi.ru/avtor/380979994453'\n",
       "        ),\n",
       "        lang=None,\n",
       "        title='Ти знов являЕшся менi у снi',\n",
       "        url='http://www.stihi.ru/2015/12/31/9302'\n",
       "    ),\n",
       "    text='Ти знов являшся мен у сн\\nПриходиш, мов сюди лише твоя дорога\\nТак тож чому радю я тоб!\\nНапевно, це кохання  вд Бога!\\n\\nУ снах збуваються вс потайн бажання\\nЦе нби мряти, та мр обернути в чари\\nКолискою приспати ус сво страждання,\\nПд нжний, мелодйний спв старенько гтари.\\n\\nА потм! Потм все немов у казц\\nЦей дивовижний свт - не хочу прокидатись\\nМагчний свт  в ньому  перлина щастя,\\nВ цей свт я хочу з головою уврватись.\\n\\nЧому ж ти знов являшся мен у сн!\\nНапевно, це кохання вд самого Бога,\\nТак тож скорше знов втопитися в птьм, \\nЩоб я заснути змг найшвидше якомога. '\n",
       ")"
      ]
     },
     "execution_count": 18,
     "metadata": {},
     "output_type": "execute_result"
    }
   ],
   "source": [
    "from corus import load_taiga_stihi_metas, load_taiga_stihi\n",
    "\n",
    "path = 'data/taiga/stihi_ru.zip'\n",
    "metas = load_taiga_stihi_metas(path, offset=0, count=1)\n",
    "records = load_taiga_stihi(path, metas, offset=0, count=1)\n",
    "next(records)"
   ]
  },
  {
   "cell_type": "markdown",
   "metadata": {},
   "source": [
    "## load_buriy_lenta"
   ]
  },
  {
   "cell_type": "code",
   "execution_count": 19,
   "metadata": {
    "scrolled": false
   },
   "outputs": [
    {
     "data": {
      "text/plain": [
       "BuriyRecord(\n",
       "    timestamp=datetime.datetime(1914, 9, 16, 12, 0),\n",
       "    url='https://lenta.ru/news/1914/09/16/hungarnn/',\n",
       "    edition=None,\n",
       "    topics='Библиотека / Первая мировая',\n",
       "    title='1914. Русские войска вступили в\\xa0пределы Венгрии  ',\n",
       "    text='Бои у Сопоцкина и Друскеник закончились отступлением германцев. Неприятель, приблизившись с севера к Осовцу начал артиллерийскую борьбу с крепостью. В артиллерийском бою принимают участие тяжелые калибры. С раннего утра 14 сентября огонь достиг значительного напряжения. Попытка германской пехоты пробиться ближе к крепости отражена. В Галиции мы заняли Дембицу. Большая колонна, отступавшая по шоссе от Перемышля к Саноку, обстреливалась с высот нашей батареей и бежала, бросив парки, обоз и автомобили. Вылазки гарнизона Перемышля остаются безуспешными. При продолжающемся отступлении австрийцев обнаруживается полное перемешивание их частей, захватываются новые партии пленных, орудия и прочая материальная часть. На перевале Ужок мы разбили неприятельский отряд, взяли его артиллерию и много пленных и, продолжая преследовать, вступили в пределы Венгрии. \\n'\n",
       ")"
      ]
     },
     "execution_count": 19,
     "metadata": {},
     "output_type": "execute_result"
    }
   ],
   "source": [
    "from corus import load_buriy_lenta\n",
    "\n",
    "path = 'data/buriy/lenta.tar.bz2'\n",
    "records = load_buriy_lenta(path)\n",
    "next(records)"
   ]
  },
  {
   "cell_type": "markdown",
   "metadata": {},
   "source": [
    "## load_buriy_news"
   ]
  },
  {
   "cell_type": "code",
   "execution_count": 20,
   "metadata": {
    "scrolled": false
   },
   "outputs": [
    {
     "data": {
      "text/plain": [
       "BuriyRecord(\n",
       "    timestamp=datetime.datetime(2014, 8, 22, 15, 15),\n",
       "    url='http://www.ntv.ru/novosti/1200239/',\n",
       "    edition=None,\n",
       "    topics='novosti',\n",
       "    title='Россияне на юношеских Олимпийских играх в пятницу завоевали восемь медалей',\n",
       "    text='В пятницу российские спортсмены на\\n'\n",
       ")"
      ]
     },
     "execution_count": 20,
     "metadata": {},
     "output_type": "execute_result"
    }
   ],
   "source": [
    "from corus import load_buriy_news\n",
    "\n",
    "paths = [\n",
    "    'data/buriy/news-articles-2014.tar.bz2',\n",
    "    'data/buriy/news-articles-2015-part1.tar.bz2',\n",
    "    'data/buriy/news-articles-2015-part2.tar.bz2'\n",
    "]\n",
    "records = (\n",
    "    record\n",
    "    for path in paths\n",
    "    for record in load_buriy_news(path)\n",
    ")\n",
    "next(records)"
   ]
  },
  {
   "cell_type": "markdown",
   "metadata": {},
   "source": [
    "## load_buriy_webhose"
   ]
  },
  {
   "cell_type": "code",
   "execution_count": 21,
   "metadata": {
    "scrolled": false
   },
   "outputs": [
    {
     "data": {
      "text/plain": [
       "BuriyRecord(\n",
       "    timestamp=datetime.datetime(2016, 10, 1, 13, 17),\n",
       "    url='https://docs.joomla.org/index.php?title=Portal:Upgrading_Versions/ru&diff=335894&oldid=334992',\n",
       "    edition='docs',\n",
       "    topics=None,\n",
       "    title='Portal:Upgrading Versions/ru',\n",
       "    text='− Прежде чем начать, очень важно, чтобы Вы знали [[S:MyLanguage/How to check the Joomla version?|на какой версии [системы] Joomla! работает Ваш вебсайт]]. Это особенно важно если Вы переходите на главную версию. Если это уже запутало Вас и Вы не знаете, что такое \"главная версия\", то познакомтесь с [[S:MyLanguage/release and support cycle| с циклом выпусков и поддержки]] версий Joomla. Joomla! выпускается согласно следующего наименования [ее версий]: \\'\\'\\'[номер главной версии].[номер малой версии].[номер версии обслуживания]\\'\\'\\'. Например, в версии 3.6.2 тройка обозначает [номер] главной версии, шестерка - [номер] малой версии и двойка - [номер] версии обслуживания. + Прежде чем начать, очень важно, чтобы Вы знали [[S:MyLanguage/How to check the Joomla version?|на какой версии [системы] Joomla! работает Ваш вебсайт]]. Это особенно важно если Вы переходите на главную версию. Если это уже запутало Вас и Вы не знаете, что такое \"главная версия\", то познакомтесь с [[S:MyLanguage/release and support cycle| циклом выпусков и поддержки]] версий Joomla. Joomla! выпускается согласно следующего наименования [ее версий]: \\'\\'\\'[номер главной версии].[номер малой версии].[номер версии обслуживания]\\'\\'\\'. Например, в версии 3.6.2 тройка обозначает [номер] главной версии, шестерка - [номер] малой версии и двойка - [номер] версии обслуживания. Начиная с версии 1.7 [функционал] обновления [версий] Joomla и перехода на новую семью версий встроен в [[S:MyLanguage/Administrator (Application)|административный]] интерфейс. Термины \"обновление версии\" и \"переход на новую семью версий\", возможно, используются как взаимозаменяемые. Начиная с Joomla 1.7 обновление версии и переход на новую семью версий во многом схожи, но Вам необходимо уделять внимание мелочам. Для того, чтобы помочь [Вам] лучше определить [разницу между этими двумя системными операциями], рекомендуется использовать термин \"миграция\" при переходе с [одной] главная.малая (например, 2.5) [семьи версий] на другую главная.малая (например, 3.1) семью версий. Начиная с версии 1.7 [функционал] обновления [версий] Joomla и перехода на новую семью версий встроен в [[S:MyLanguage/Administrator (Application)|административный]] интерфейс. Термины \"обновление версии\" и \"переход на новую семью версий\", возможно, используются как взаимозаменяемые. Начиная с Joomla 1.7 обновление версии и переход на новую семью версий во многом схожи, но Вам необходимо уделять внимание мелочам. Для того, чтобы помочь [Вам] лучше определить [разницу между этими двумя системными операциями], рекомендуется использовать термин \"миграция\" при переходе с [одной] главная.малая (например, 2.5) [семьи версий] на другую главная.малая (например, 3.1) семью версий. Line 14:'\n",
       ")"
      ]
     },
     "execution_count": 21,
     "metadata": {},
     "output_type": "execute_result"
    }
   ],
   "source": [
    "from corus import load_buriy_webhose\n",
    "\n",
    "path = 'data/buriy/webhose-2016.tar.bz2'\n",
    "records = load_buriy_webhose(path)\n",
    "next(records)"
   ]
  },
  {
   "cell_type": "markdown",
   "metadata": {},
   "source": [
    "## load_mokoron"
   ]
  },
  {
   "cell_type": "code",
   "execution_count": 22,
   "metadata": {},
   "outputs": [
    {
     "data": {
      "text/plain": [
       "[MokoronRecord(\n",
       "     id=408906695721877504,\n",
       "     timestamp=datetime.datetime(2013, 12, 6, 14, 32, 8),\n",
       "     user='Va5ilina',\n",
       "     text='Пропавшая в Хабаровске школьница почти сутки провела в яме у коллектор',\n",
       "     sentiment=2,\n",
       "     replies=0,\n",
       "     retweets=0,\n",
       "     favourites=0,\n",
       "     posts=183,\n",
       "     followers=95,\n",
       "     friends=158,\n",
       "     lists=0\n",
       " ), MokoronRecord(\n",
       "     id=408906695700520960,\n",
       "     timestamp=datetime.datetime(2013, 12, 6, 14, 32, 8),\n",
       "     user='i_wont_judge_ya',\n",
       "     text='ЛЕНТА, Я СЕГОДНЯ ПОЛГОДА ДИРЕКШИОНЕЕЕЕР! С:\\\\nХОТЯ ВСЕ РАВНО НИКТО НЕ ПОЗДРАВИТ ЛОЛ',\n",
       "     sentiment=2,\n",
       "     replies=0,\n",
       "     retweets=0,\n",
       "     favourites=0,\n",
       "     posts=19809,\n",
       "     followers=804,\n",
       "     friends=257,\n",
       "     lists=11\n",
       " ), MokoronRecord(\n",
       "     id=410005806927847424,\n",
       "     timestamp=datetime.datetime(2013, 12, 9, 15, 19, 36),\n",
       "     user='Victorika_nya',\n",
       "     text='Открытые аудиозаписи нужны, чтобы прийти в гости и включить их ^.^',\n",
       "     sentiment=2,\n",
       "     replies=0,\n",
       "     retweets=0,\n",
       "     favourites=0,\n",
       "     posts=426,\n",
       "     followers=12,\n",
       "     friends=20,\n",
       "     lists=0\n",
       " ), MokoronRecord(\n",
       "     id=408906695663161344,\n",
       "     timestamp=datetime.datetime(2013, 12, 6, 14, 32, 8),\n",
       "     user='victorypanasenk',\n",
       "     text='Царствие Божие внутрь вас есть.',\n",
       "     sentiment=2,\n",
       "     replies=0,\n",
       "     retweets=0,\n",
       "     favourites=0,\n",
       "     posts=1080,\n",
       "     followers=986,\n",
       "     friends=412,\n",
       "     lists=0\n",
       " )]"
      ]
     },
     "execution_count": 22,
     "metadata": {},
     "output_type": "execute_result"
    }
   ],
   "source": [
    "from corus import load_mokoron\n",
    "\n",
    "path = 'data/mokoron/db.sql'\n",
    "records = load_mokoron(path)\n",
    "list(records)"
   ]
  }
 ],
 "metadata": {
  "kernelspec": {
   "display_name": "Python 3",
   "language": "python",
   "name": "python3"
  },
  "language_info": {
   "codemirror_mode": {
    "name": "ipython",
    "version": 3
   },
   "file_extension": ".py",
   "mimetype": "text/x-python",
   "name": "python",
   "nbconvert_exporter": "python",
   "pygments_lexer": "ipython3",
   "version": "3.5.1"
  }
 },
 "nbformat": 4,
 "nbformat_minor": 2
}
